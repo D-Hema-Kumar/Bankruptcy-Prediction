{
 "cells": [
  {
   "cell_type": "markdown",
   "id": "44e7b3cc",
   "metadata": {},
   "source": [
    "# Predicting Bankruptcy Of Polish Companies Using Machine Learning"
   ]
  },
  {
   "cell_type": "markdown",
   "id": "a470c41c",
   "metadata": {},
   "source": [
    "## Project description\n",
    "\n",
    "The notebook uses multiple machine learning algortithms such as Logistic regression, random forest, XG boost, support vector machines, etc. to **predict the bankruptcy of Polish companies** based on financial predictors. The data was collected for the period 2007-2013 and credits go to Emerging Markets Information Service and Sebastian Tomczak from Department of Operations Research, Wroclaw University, Poland. The dataset contains all the financial features (all are numerical in nature) of the polish companies and the feature descriptions can be found in the link provided. The problem type is a binary class classification and each instance belongs to either bankrupt ('class 1') or Non-Bankrupt (calss 0).\n",
    "\n",
    "The flow of the project follows 3 experimental settings and is as below:\n",
    "\n",
    "- Reading the data in arff files.\n",
    "- Target variable distribution analysis .\n",
    "- Basic data exploration.\n",
    "- Missing values treatment.\n",
    "- Sampling (SMOTE & random), scaling and K-fold cross validation.\n",
    "- Application of multiple classification algorithms based on different time horizons.\n",
    "- Comparision of Recall scores on testing datasets.\n",
    "- Result discussion.\n",
    "\n",
    "**Notebook runtime:**<br>\n",
    "**Dataset link :** https://archive.ics.uci.edu/ml/datasets/Polish+companies+bankruptcy+data#"
   ]
  },
  {
   "cell_type": "code",
   "execution_count": 38,
   "id": "155ed7cb",
   "metadata": {},
   "outputs": [],
   "source": [
    "import pandas as pd\n",
    "import numpy as np\n",
    "import matplotlib.pyplot as plt\n",
    "import warnings\n",
    "\n",
    "# Metrics\n",
    "from sklearn import metrics\n",
    "from sklearn.metrics import accuracy_score, classification_report, precision_score, recall_score, confusion_matrix\n",
    "\n",
    "from sklearn.model_selection import StratifiedKFold\n",
    "from sklearn.model_selection import GridSearchCV\n",
    "\n",
    "# to read arff files\n",
    "from scipy.io import arff"
   ]
  },
  {
   "cell_type": "code",
   "execution_count": 41,
   "id": "65e4b93d",
   "metadata": {},
   "outputs": [],
   "source": [
    "warnings.filterwarnings(\"ignore\")\n",
    "\n",
    "PATH = \"C:/Users/dhema/Documents/\""
   ]
  },
  {
   "cell_type": "code",
   "execution_count": 7,
   "id": "9dd01fd5",
   "metadata": {},
   "outputs": [],
   "source": [
    "# data loading of each of the firm-year data from each year into respective variables.\n",
    "data_yr1 = arff.loadarff(PATH + \"/data/1year.arff\") # year 2007, class label that indicates bankruptcy status after 5 years.\n",
    "data_yr2 = arff.loadarff(PATH + \"/data/2year.arff\") # year 2008, class label that indicates bankruptcy status after 4 year\n",
    "data_yr3 = arff.loadarff(PATH + \"/data/3year.arff\") # year 2009, class label that indicates bankruptcy status after 3 year\n",
    "data_yr4 = arff.loadarff(PATH + \"/data/4year.arff\") # year 2010, class label that indicates bankruptcy status after 2 year\n",
    "data_yr5 = arff.loadarff(PATH + \"/data/5year.arff\") # year 2011, class label that indicates bankruptcy status after 1 year"
   ]
  },
  {
   "cell_type": "code",
   "execution_count": 8,
   "id": "adc8adb6",
   "metadata": {},
   "outputs": [
    {
     "data": {
      "text/plain": [
       "array([( 0.20055 , 0.37951,  0.39641, 2.0472 ,   32.351 , 0.38825 ,  0.24976 , 1.3305  , 1.1389 , 0.50494 , 0.24976 ,  0.6598  ,  0.1666  ,  0.24976 ,    497.42,  0.73378 , 2.6349,  0.24976 ,  0.14942 , 43.37  , 1.2479 , 0.21402 ,  0.11998 , 0.47706 , 0.50494 ,  0.60411 ,  1.4582 ,  1.7615 , 5.9443, 0.11788, 0.14942 ,  94.14 , 3.8772, 0.56393 ,  0.21402 , 1.741  , 5.9327e+02, 0.50591,  0.12804 , 0.66295 , 0.051402, 0.12804 , 114.42 ,  71.05 ,  1.0097  , 1.5225 ,  49.394 ,  0.1853  ,  0.11085 , 2.042  , 0.37854, 0.25792,  2.2437 ,  2.248  ,  3.4869e+05,  0.12196 ,  0.39718 , 0.87804, 1.9240e-03,  8.416 , 5.1372,  82.658, 4.4158,  7.4277 , b'0'),\n",
       "       ( 0.20912 , 0.49988,  0.47225, 1.9447 ,   14.786 , 0.      ,  0.25834 , 0.99601 , 1.6996 , 0.49788 , 0.26114 ,  0.5168  ,  0.15835 ,  0.25834 ,    677.96,  0.53838 , 2.0005,  0.25834 ,  0.152   , 87.981 , 1.4293 , 0.24806 ,  0.12304 ,      nan, 0.39542 ,  0.43992 , 88.444  , 16.946  , 3.6884, 0.26969, 0.152   , 122.17 , 2.9876, 2.9876  ,  0.20616 , 1.6996 ,        nan, 0.49788,  0.1213  , 0.086422, 0.064371, 0.14595 , 199.49 , 111.51 ,  0.51045 , 1.1252 , 100.13  ,  0.23727 ,  0.13961 , 1.9447 , 0.49988, 0.33472, 17.866  , 17.866  ,  2.3046e+03,  0.1213  ,  0.42002 , 0.853  , 0.0000e+00,  4.1486, 3.2732, 107.35 , 3.4   , 60.987  , b'0'),\n",
       "       ( 0.24866 , 0.69592,  0.26713, 1.5548 ,   -1.1523, 0.      ,  0.30906 , 0.43695 , 1.309  , 0.30408 , 0.31258 ,  0.64184 ,  0.24435 ,  0.30906 ,    794.16,  0.45961 , 1.4369,  0.30906 ,  0.2361  , 73.133 , 1.4283 , 0.3026  ,  0.18996 ,      nan, 0.28932 ,  0.37282 , 86.011  ,  1.0627 , 4.3749, 0.41929, 0.23815 , 176.93 , 2.063 , 1.4274  ,  0.31565 , 1.309  , 2.3019e+00, 0.51537,  0.24114 , 0.32202 , 0.07402 , 0.23117 , 165.51 ,  92.381,  0.94807 , 1.0101 ,  96.372 ,  0.29181 ,  0.22293 , 1.0758 , 0.48152, 0.48474,  1.2098 ,  2.0504 ,  6.3327e+03,  0.24114 ,  0.81774 , 0.76599, 6.9484e-01,  4.9909, 3.951 , 134.27 , 2.7185,  5.2078 , b'0'),\n",
       "       ...,\n",
       "       ( 0.006338, 0.50276,  0.43923, 1.8736 ,    9.7417, 0.006338,  0.012022, 0.98356 , 1.0083 , 0.49449 , 0.012022,  0.023912,  0.014722,  0.012022,   3465.6 ,  0.10532 , 1.989 ,  0.012022,  0.003342, 34.862 ,     nan, 0.014559,  0.001762, 0.012022, 0.49449 ,  0.094015,      nan,  7.5711 , 4.041 , 0.13806, 0.003342,  51.443, 7.0952, 0.028958,  0.014559, 3.6054 ,        nan, 0.49449,  0.004048, 0.012816, 0.29788 , 0.004048,  94.936,  60.074,  0.018448, 1.1903 ,  35.153 , -0.02637 , -0.007331, 1.8736 , 0.50276, 0.14094,  8.5238 ,  8.5238 ,  4.8269e+03,  0.008258,  0.012817, 0.99174, 0.0000e+00, 10.47  , 6.0759,  51.019, 7.1542, 62.001  , b'1'),\n",
       "       (-0.041643, 0.8481 , -0.12852, 0.57485, -121.92  , 0.      , -0.036795, 0.17901 , 0.42138, 0.15182 , 0.006414, -0.12172 , -0.030657, -0.036795, -23963.  , -0.015232, 1.1791, -0.036795, -0.087322,  9.1932, 0.64405, 0.006414, -0.098825, 0.045607, 0.12978 , -0.020947,  0.14843, -0.15557, 4.104 , 2.0119 , 0.01522 , 212.42 , 1.7183, 0.61247 , -0.098064, 0.52581, 2.9911e-01, 0.69731, -0.23272 , 0.096108, 0.9333  , 0.01522 , 125.36 , 116.17 , -3.9237  , 0.13122,   7.4576, -0.017463, -0.041444, 0.2049 , 0.3023 , 0.58197,  0.18377,  0.84405, -1.6330e+03, -0.23272 , -0.27429 , 0.98788, 3.5931e+00, 39.703 , 3.142 , 261.85 , 1.3939,  0.51005, b'1'),\n",
       "       ( 0.014946, 0.94648,  0.03211, 1.0363 ,  -20.581 , 0.      ,  0.01526 , 0.056357, 2.9694 , 0.053341, 0.076621,  0.017266,  0.01542 ,  0.01526 ,   7545.  ,  0.048376, 1.0565,  0.01526 ,  0.005139, 24.275 ,     nan, 0.049167,  0.005034, 0.01526 , 0.015115,  0.048045,  0.80127,  0.37975, 3.1166, 0.31637, 0.014846, 110.37 , 3.3074, 3.0884  ,  0.046552, 2.9998 , 1.1422e+01, 0.11624,  0.015677, 0.007959, 0.39588 , 0.016558, 111.72 ,  87.443,  0.075684, 0.23141,  24.66  ,  0.018639,  0.006277, 0.96769, 0.88379, 0.30235,  0.63083,  1.3747 ,  4.2000e+01,  0.015705,  0.28021 , 0.97443, 1.1792e+00, 15.036 , 4.1741, 108.64 , 3.3599, 35.118  , b'1')],\n",
       "      dtype=[('Attr1', '<f8'), ('Attr2', '<f8'), ('Attr3', '<f8'), ('Attr4', '<f8'), ('Attr5', '<f8'), ('Attr6', '<f8'), ('Attr7', '<f8'), ('Attr8', '<f8'), ('Attr9', '<f8'), ('Attr10', '<f8'), ('Attr11', '<f8'), ('Attr12', '<f8'), ('Attr13', '<f8'), ('Attr14', '<f8'), ('Attr15', '<f8'), ('Attr16', '<f8'), ('Attr17', '<f8'), ('Attr18', '<f8'), ('Attr19', '<f8'), ('Attr20', '<f8'), ('Attr21', '<f8'), ('Attr22', '<f8'), ('Attr23', '<f8'), ('Attr24', '<f8'), ('Attr25', '<f8'), ('Attr26', '<f8'), ('Attr27', '<f8'), ('Attr28', '<f8'), ('Attr29', '<f8'), ('Attr30', '<f8'), ('Attr31', '<f8'), ('Attr32', '<f8'), ('Attr33', '<f8'), ('Attr34', '<f8'), ('Attr35', '<f8'), ('Attr36', '<f8'), ('Attr37', '<f8'), ('Attr38', '<f8'), ('Attr39', '<f8'), ('Attr40', '<f8'), ('Attr41', '<f8'), ('Attr42', '<f8'), ('Attr43', '<f8'), ('Attr44', '<f8'), ('Attr45', '<f8'), ('Attr46', '<f8'), ('Attr47', '<f8'), ('Attr48', '<f8'), ('Attr49', '<f8'), ('Attr50', '<f8'), ('Attr51', '<f8'), ('Attr52', '<f8'), ('Attr53', '<f8'), ('Attr54', '<f8'), ('Attr55', '<f8'), ('Attr56', '<f8'), ('Attr57', '<f8'), ('Attr58', '<f8'), ('Attr59', '<f8'), ('Attr60', '<f8'), ('Attr61', '<f8'), ('Attr62', '<f8'), ('Attr63', '<f8'), ('Attr64', '<f8'), ('class', 'S1')])"
      ]
     },
     "execution_count": 8,
     "metadata": {},
     "output_type": "execute_result"
    }
   ],
   "source": [
    "data_yr1[0]"
   ]
  },
  {
   "cell_type": "code",
   "execution_count": 9,
   "id": "f6d02ea3",
   "metadata": {},
   "outputs": [
    {
     "data": {
      "text/html": [
       "<div>\n",
       "<style scoped>\n",
       "    .dataframe tbody tr th:only-of-type {\n",
       "        vertical-align: middle;\n",
       "    }\n",
       "\n",
       "    .dataframe tbody tr th {\n",
       "        vertical-align: top;\n",
       "    }\n",
       "\n",
       "    .dataframe thead th {\n",
       "        text-align: right;\n",
       "    }\n",
       "</style>\n",
       "<table border=\"1\" class=\"dataframe\">\n",
       "  <thead>\n",
       "    <tr style=\"text-align: right;\">\n",
       "      <th></th>\n",
       "      <th>Attr1</th>\n",
       "      <th>Attr2</th>\n",
       "      <th>Attr3</th>\n",
       "      <th>Attr4</th>\n",
       "      <th>Attr5</th>\n",
       "      <th>Attr6</th>\n",
       "      <th>Attr7</th>\n",
       "      <th>Attr8</th>\n",
       "      <th>Attr9</th>\n",
       "      <th>Attr10</th>\n",
       "      <th>...</th>\n",
       "      <th>Attr56</th>\n",
       "      <th>Attr57</th>\n",
       "      <th>Attr58</th>\n",
       "      <th>Attr59</th>\n",
       "      <th>Attr60</th>\n",
       "      <th>Attr61</th>\n",
       "      <th>Attr62</th>\n",
       "      <th>Attr63</th>\n",
       "      <th>Attr64</th>\n",
       "      <th>class</th>\n",
       "    </tr>\n",
       "  </thead>\n",
       "  <tbody>\n",
       "    <tr>\n",
       "      <th>0</th>\n",
       "      <td>0.200550</td>\n",
       "      <td>0.37951</td>\n",
       "      <td>0.39641</td>\n",
       "      <td>2.0472</td>\n",
       "      <td>32.3510</td>\n",
       "      <td>0.38825</td>\n",
       "      <td>0.249760</td>\n",
       "      <td>1.33050</td>\n",
       "      <td>1.1389</td>\n",
       "      <td>0.50494</td>\n",
       "      <td>...</td>\n",
       "      <td>0.121960</td>\n",
       "      <td>0.39718</td>\n",
       "      <td>0.87804</td>\n",
       "      <td>0.001924</td>\n",
       "      <td>8.4160</td>\n",
       "      <td>5.1372</td>\n",
       "      <td>82.658</td>\n",
       "      <td>4.4158</td>\n",
       "      <td>7.4277</td>\n",
       "      <td>b'0'</td>\n",
       "    </tr>\n",
       "    <tr>\n",
       "      <th>1</th>\n",
       "      <td>0.209120</td>\n",
       "      <td>0.49988</td>\n",
       "      <td>0.47225</td>\n",
       "      <td>1.9447</td>\n",
       "      <td>14.7860</td>\n",
       "      <td>0.00000</td>\n",
       "      <td>0.258340</td>\n",
       "      <td>0.99601</td>\n",
       "      <td>1.6996</td>\n",
       "      <td>0.49788</td>\n",
       "      <td>...</td>\n",
       "      <td>0.121300</td>\n",
       "      <td>0.42002</td>\n",
       "      <td>0.85300</td>\n",
       "      <td>0.000000</td>\n",
       "      <td>4.1486</td>\n",
       "      <td>3.2732</td>\n",
       "      <td>107.350</td>\n",
       "      <td>3.4000</td>\n",
       "      <td>60.9870</td>\n",
       "      <td>b'0'</td>\n",
       "    </tr>\n",
       "    <tr>\n",
       "      <th>2</th>\n",
       "      <td>0.248660</td>\n",
       "      <td>0.69592</td>\n",
       "      <td>0.26713</td>\n",
       "      <td>1.5548</td>\n",
       "      <td>-1.1523</td>\n",
       "      <td>0.00000</td>\n",
       "      <td>0.309060</td>\n",
       "      <td>0.43695</td>\n",
       "      <td>1.3090</td>\n",
       "      <td>0.30408</td>\n",
       "      <td>...</td>\n",
       "      <td>0.241140</td>\n",
       "      <td>0.81774</td>\n",
       "      <td>0.76599</td>\n",
       "      <td>0.694840</td>\n",
       "      <td>4.9909</td>\n",
       "      <td>3.9510</td>\n",
       "      <td>134.270</td>\n",
       "      <td>2.7185</td>\n",
       "      <td>5.2078</td>\n",
       "      <td>b'0'</td>\n",
       "    </tr>\n",
       "    <tr>\n",
       "      <th>3</th>\n",
       "      <td>0.081483</td>\n",
       "      <td>0.30734</td>\n",
       "      <td>0.45879</td>\n",
       "      <td>2.4928</td>\n",
       "      <td>51.9520</td>\n",
       "      <td>0.14988</td>\n",
       "      <td>0.092704</td>\n",
       "      <td>1.86610</td>\n",
       "      <td>1.0571</td>\n",
       "      <td>0.57353</td>\n",
       "      <td>...</td>\n",
       "      <td>0.054015</td>\n",
       "      <td>0.14207</td>\n",
       "      <td>0.94598</td>\n",
       "      <td>0.000000</td>\n",
       "      <td>4.5746</td>\n",
       "      <td>3.6147</td>\n",
       "      <td>86.435</td>\n",
       "      <td>4.2228</td>\n",
       "      <td>5.5497</td>\n",
       "      <td>b'0'</td>\n",
       "    </tr>\n",
       "    <tr>\n",
       "      <th>4</th>\n",
       "      <td>0.187320</td>\n",
       "      <td>0.61323</td>\n",
       "      <td>0.22960</td>\n",
       "      <td>1.4063</td>\n",
       "      <td>-7.3128</td>\n",
       "      <td>0.18732</td>\n",
       "      <td>0.187320</td>\n",
       "      <td>0.63070</td>\n",
       "      <td>1.1559</td>\n",
       "      <td>0.38677</td>\n",
       "      <td>...</td>\n",
       "      <td>0.134850</td>\n",
       "      <td>0.48431</td>\n",
       "      <td>0.86515</td>\n",
       "      <td>0.124440</td>\n",
       "      <td>6.3985</td>\n",
       "      <td>4.3158</td>\n",
       "      <td>127.210</td>\n",
       "      <td>2.8692</td>\n",
       "      <td>7.8980</td>\n",
       "      <td>b'0'</td>\n",
       "    </tr>\n",
       "  </tbody>\n",
       "</table>\n",
       "<p>5 rows × 65 columns</p>\n",
       "</div>"
      ],
      "text/plain": [
       "      Attr1    Attr2    Attr3   Attr4    Attr5    Attr6     Attr7    Attr8  \\\n",
       "0  0.200550  0.37951  0.39641  2.0472  32.3510  0.38825  0.249760  1.33050   \n",
       "1  0.209120  0.49988  0.47225  1.9447  14.7860  0.00000  0.258340  0.99601   \n",
       "2  0.248660  0.69592  0.26713  1.5548  -1.1523  0.00000  0.309060  0.43695   \n",
       "3  0.081483  0.30734  0.45879  2.4928  51.9520  0.14988  0.092704  1.86610   \n",
       "4  0.187320  0.61323  0.22960  1.4063  -7.3128  0.18732  0.187320  0.63070   \n",
       "\n",
       "    Attr9   Attr10  ...    Attr56   Attr57   Attr58    Attr59  Attr60  Attr61  \\\n",
       "0  1.1389  0.50494  ...  0.121960  0.39718  0.87804  0.001924  8.4160  5.1372   \n",
       "1  1.6996  0.49788  ...  0.121300  0.42002  0.85300  0.000000  4.1486  3.2732   \n",
       "2  1.3090  0.30408  ...  0.241140  0.81774  0.76599  0.694840  4.9909  3.9510   \n",
       "3  1.0571  0.57353  ...  0.054015  0.14207  0.94598  0.000000  4.5746  3.6147   \n",
       "4  1.1559  0.38677  ...  0.134850  0.48431  0.86515  0.124440  6.3985  4.3158   \n",
       "\n",
       "    Attr62  Attr63   Attr64  class  \n",
       "0   82.658  4.4158   7.4277   b'0'  \n",
       "1  107.350  3.4000  60.9870   b'0'  \n",
       "2  134.270  2.7185   5.2078   b'0'  \n",
       "3   86.435  4.2228   5.5497   b'0'  \n",
       "4  127.210  2.8692   7.8980   b'0'  \n",
       "\n",
       "[5 rows x 65 columns]"
      ]
     },
     "execution_count": 9,
     "metadata": {},
     "output_type": "execute_result"
    }
   ],
   "source": [
    "# .arff files into a ddataframe\n",
    "data_yr1 = pd.DataFrame(data_yr1[0])\n",
    "data_yr2 = pd.DataFrame(data_yr2[0])\n",
    "data_yr3 = pd.DataFrame(data_yr3[0])\n",
    "data_yr4 = pd.DataFrame(data_yr4[0])\n",
    "data_yr5 = pd.DataFrame(data_yr5[0])\n",
    "data_yr1.head()"
   ]
  },
  {
   "cell_type": "markdown",
   "id": "e4c9cbae",
   "metadata": {},
   "source": [
    "The dataset contains 64 numerical predictor attributes and a class feature indicating bankrupt or not."
   ]
  },
  {
   "cell_type": "code",
   "execution_count": 10,
   "id": "5a2bbccc",
   "metadata": {},
   "outputs": [
    {
     "data": {
      "text/plain": [
       "float64    64\n",
       "object      1\n",
       "dtype: int64"
      ]
     },
     "execution_count": 10,
     "metadata": {},
     "output_type": "execute_result"
    }
   ],
   "source": [
    "# Feature type count\n",
    "data_yr1.dtypes.value_counts()"
   ]
  },
  {
   "cell_type": "code",
   "execution_count": 11,
   "id": "de349961",
   "metadata": {},
   "outputs": [
    {
     "data": {
      "text/html": [
       "<div>\n",
       "<style scoped>\n",
       "    .dataframe tbody tr th:only-of-type {\n",
       "        vertical-align: middle;\n",
       "    }\n",
       "\n",
       "    .dataframe tbody tr th {\n",
       "        vertical-align: top;\n",
       "    }\n",
       "\n",
       "    .dataframe thead th {\n",
       "        text-align: right;\n",
       "    }\n",
       "</style>\n",
       "<table border=\"1\" class=\"dataframe\">\n",
       "  <thead>\n",
       "    <tr style=\"text-align: right;\">\n",
       "      <th></th>\n",
       "      <th>Attr1</th>\n",
       "      <th>Attr2</th>\n",
       "      <th>Attr3</th>\n",
       "      <th>Attr4</th>\n",
       "      <th>Attr5</th>\n",
       "      <th>Attr6</th>\n",
       "      <th>Attr7</th>\n",
       "      <th>Attr8</th>\n",
       "      <th>Attr9</th>\n",
       "      <th>Attr10</th>\n",
       "      <th>...</th>\n",
       "      <th>Attr55</th>\n",
       "      <th>Attr56</th>\n",
       "      <th>Attr57</th>\n",
       "      <th>Attr58</th>\n",
       "      <th>Attr59</th>\n",
       "      <th>Attr60</th>\n",
       "      <th>Attr61</th>\n",
       "      <th>Attr62</th>\n",
       "      <th>Attr63</th>\n",
       "      <th>Attr64</th>\n",
       "    </tr>\n",
       "  </thead>\n",
       "  <tbody>\n",
       "    <tr>\n",
       "      <th>count</th>\n",
       "      <td>7024.000000</td>\n",
       "      <td>7024.000000</td>\n",
       "      <td>7024.000000</td>\n",
       "      <td>6997.000000</td>\n",
       "      <td>7.019000e+03</td>\n",
       "      <td>7024.000000</td>\n",
       "      <td>7024.000000</td>\n",
       "      <td>7002.000000</td>\n",
       "      <td>7026.000000</td>\n",
       "      <td>7024.000000</td>\n",
       "      <td>...</td>\n",
       "      <td>7.027000e+03</td>\n",
       "      <td>7.027000e+03</td>\n",
       "      <td>7026.000000</td>\n",
       "      <td>7.027000e+03</td>\n",
       "      <td>7026.000000</td>\n",
       "      <td>6.892000e+03</td>\n",
       "      <td>7005.000000</td>\n",
       "      <td>7.027000e+03</td>\n",
       "      <td>6997.000000</td>\n",
       "      <td>6993.000000</td>\n",
       "    </tr>\n",
       "    <tr>\n",
       "      <th>mean</th>\n",
       "      <td>0.034660</td>\n",
       "      <td>0.560215</td>\n",
       "      <td>0.119969</td>\n",
       "      <td>2.629143</td>\n",
       "      <td>-2.631672e+02</td>\n",
       "      <td>0.059712</td>\n",
       "      <td>0.313876</td>\n",
       "      <td>2.623996</td>\n",
       "      <td>5.552855</td>\n",
       "      <td>1.825832</td>\n",
       "      <td>...</td>\n",
       "      <td>8.855693e+03</td>\n",
       "      <td>-1.577367e+02</td>\n",
       "      <td>0.193243</td>\n",
       "      <td>1.587409e+02</td>\n",
       "      <td>0.277829</td>\n",
       "      <td>4.328830e+02</td>\n",
       "      <td>15.642228</td>\n",
       "      <td>4.763202e+03</td>\n",
       "      <td>8.126852</td>\n",
       "      <td>208.731950</td>\n",
       "    </tr>\n",
       "    <tr>\n",
       "      <th>std</th>\n",
       "      <td>4.565504</td>\n",
       "      <td>5.350084</td>\n",
       "      <td>5.275459</td>\n",
       "      <td>13.257356</td>\n",
       "      <td>3.707460e+04</td>\n",
       "      <td>6.051113</td>\n",
       "      <td>8.353274</td>\n",
       "      <td>18.708327</td>\n",
       "      <td>101.995448</td>\n",
       "      <td>33.836452</td>\n",
       "      <td>...</td>\n",
       "      <td>7.247527e+04</td>\n",
       "      <td>1.322125e+04</td>\n",
       "      <td>4.344046</td>\n",
       "      <td>1.322124e+04</td>\n",
       "      <td>6.339149</td>\n",
       "      <td>2.612802e+04</td>\n",
       "      <td>261.554534</td>\n",
       "      <td>3.107835e+05</td>\n",
       "      <td>19.996419</td>\n",
       "      <td>5140.708804</td>\n",
       "    </tr>\n",
       "    <tr>\n",
       "      <th>min</th>\n",
       "      <td>-256.890000</td>\n",
       "      <td>-72.162000</td>\n",
       "      <td>-440.500000</td>\n",
       "      <td>0.000000</td>\n",
       "      <td>-2.722100e+06</td>\n",
       "      <td>-397.890000</td>\n",
       "      <td>-189.560000</td>\n",
       "      <td>-141.410000</td>\n",
       "      <td>0.000005</td>\n",
       "      <td>-440.550000</td>\n",
       "      <td>...</td>\n",
       "      <td>-8.004700e+05</td>\n",
       "      <td>-1.108300e+06</td>\n",
       "      <td>-315.370000</td>\n",
       "      <td>-4.194000e-03</td>\n",
       "      <td>-327.970000</td>\n",
       "      <td>4.700000e-05</td>\n",
       "      <td>0.000016</td>\n",
       "      <td>0.000000e+00</td>\n",
       "      <td>0.000015</td>\n",
       "      <td>0.000010</td>\n",
       "    </tr>\n",
       "    <tr>\n",
       "      <th>25%</th>\n",
       "      <td>0.021182</td>\n",
       "      <td>0.296678</td>\n",
       "      <td>0.026968</td>\n",
       "      <td>1.063100</td>\n",
       "      <td>-4.449800e+01</td>\n",
       "      <td>0.000000</td>\n",
       "      <td>0.028023</td>\n",
       "      <td>0.445710</td>\n",
       "      <td>1.037225</td>\n",
       "      <td>0.300785</td>\n",
       "      <td>...</td>\n",
       "      <td>9.712000e+01</td>\n",
       "      <td>2.031450e-02</td>\n",
       "      <td>0.056772</td>\n",
       "      <td>8.647650e-01</td>\n",
       "      <td>0.000000</td>\n",
       "      <td>5.923950e+00</td>\n",
       "      <td>4.829000</td>\n",
       "      <td>4.322250e+01</td>\n",
       "      <td>3.425400</td>\n",
       "      <td>2.538600</td>\n",
       "    </tr>\n",
       "    <tr>\n",
       "      <th>50%</th>\n",
       "      <td>0.075802</td>\n",
       "      <td>0.482960</td>\n",
       "      <td>0.181275</td>\n",
       "      <td>1.502000</td>\n",
       "      <td>-5.373900e+00</td>\n",
       "      <td>0.000000</td>\n",
       "      <td>0.090109</td>\n",
       "      <td>1.015100</td>\n",
       "      <td>1.205750</td>\n",
       "      <td>0.492235</td>\n",
       "      <td>...</td>\n",
       "      <td>1.604800e+03</td>\n",
       "      <td>6.338200e-02</td>\n",
       "      <td>0.175745</td>\n",
       "      <td>9.388100e-01</td>\n",
       "      <td>0.028438</td>\n",
       "      <td>1.004050e+01</td>\n",
       "      <td>7.033700</td>\n",
       "      <td>6.850900e+01</td>\n",
       "      <td>5.303200</td>\n",
       "      <td>4.637700</td>\n",
       "    </tr>\n",
       "    <tr>\n",
       "      <th>75%</th>\n",
       "      <td>0.160268</td>\n",
       "      <td>0.680233</td>\n",
       "      <td>0.362548</td>\n",
       "      <td>2.460700</td>\n",
       "      <td>3.777050e+01</td>\n",
       "      <td>0.146660</td>\n",
       "      <td>0.188667</td>\n",
       "      <td>2.267675</td>\n",
       "      <td>2.132975</td>\n",
       "      <td>0.675677</td>\n",
       "      <td>...</td>\n",
       "      <td>5.955900e+03</td>\n",
       "      <td>1.376950e-01</td>\n",
       "      <td>0.351922</td>\n",
       "      <td>9.820150e-01</td>\n",
       "      <td>0.273867</td>\n",
       "      <td>2.013900e+01</td>\n",
       "      <td>10.703000</td>\n",
       "      <td>1.063350e+02</td>\n",
       "      <td>8.357900</td>\n",
       "      <td>9.782200</td>\n",
       "    </tr>\n",
       "    <tr>\n",
       "      <th>max</th>\n",
       "      <td>94.280000</td>\n",
       "      <td>441.500000</td>\n",
       "      <td>1.000000</td>\n",
       "      <td>1017.800000</td>\n",
       "      <td>9.909000e+05</td>\n",
       "      <td>303.670000</td>\n",
       "      <td>453.770000</td>\n",
       "      <td>1452.200000</td>\n",
       "      <td>3876.100000</td>\n",
       "      <td>1099.500000</td>\n",
       "      <td>...</td>\n",
       "      <td>4.398400e+06</td>\n",
       "      <td>1.000000e+00</td>\n",
       "      <td>126.670000</td>\n",
       "      <td>1.108300e+06</td>\n",
       "      <td>119.580000</td>\n",
       "      <td>2.137800e+06</td>\n",
       "      <td>21110.000000</td>\n",
       "      <td>2.501600e+07</td>\n",
       "      <td>1042.200000</td>\n",
       "      <td>294770.000000</td>\n",
       "    </tr>\n",
       "  </tbody>\n",
       "</table>\n",
       "<p>8 rows × 64 columns</p>\n",
       "</div>"
      ],
      "text/plain": [
       "             Attr1        Attr2        Attr3        Attr4         Attr5  \\\n",
       "count  7024.000000  7024.000000  7024.000000  6997.000000  7.019000e+03   \n",
       "mean      0.034660     0.560215     0.119969     2.629143 -2.631672e+02   \n",
       "std       4.565504     5.350084     5.275459    13.257356  3.707460e+04   \n",
       "min    -256.890000   -72.162000  -440.500000     0.000000 -2.722100e+06   \n",
       "25%       0.021182     0.296678     0.026968     1.063100 -4.449800e+01   \n",
       "50%       0.075802     0.482960     0.181275     1.502000 -5.373900e+00   \n",
       "75%       0.160268     0.680233     0.362548     2.460700  3.777050e+01   \n",
       "max      94.280000   441.500000     1.000000  1017.800000  9.909000e+05   \n",
       "\n",
       "             Attr6        Attr7        Attr8        Attr9       Attr10  ...  \\\n",
       "count  7024.000000  7024.000000  7002.000000  7026.000000  7024.000000  ...   \n",
       "mean      0.059712     0.313876     2.623996     5.552855     1.825832  ...   \n",
       "std       6.051113     8.353274    18.708327   101.995448    33.836452  ...   \n",
       "min    -397.890000  -189.560000  -141.410000     0.000005  -440.550000  ...   \n",
       "25%       0.000000     0.028023     0.445710     1.037225     0.300785  ...   \n",
       "50%       0.000000     0.090109     1.015100     1.205750     0.492235  ...   \n",
       "75%       0.146660     0.188667     2.267675     2.132975     0.675677  ...   \n",
       "max     303.670000   453.770000  1452.200000  3876.100000  1099.500000  ...   \n",
       "\n",
       "             Attr55        Attr56       Attr57        Attr58       Attr59  \\\n",
       "count  7.027000e+03  7.027000e+03  7026.000000  7.027000e+03  7026.000000   \n",
       "mean   8.855693e+03 -1.577367e+02     0.193243  1.587409e+02     0.277829   \n",
       "std    7.247527e+04  1.322125e+04     4.344046  1.322124e+04     6.339149   \n",
       "min   -8.004700e+05 -1.108300e+06  -315.370000 -4.194000e-03  -327.970000   \n",
       "25%    9.712000e+01  2.031450e-02     0.056772  8.647650e-01     0.000000   \n",
       "50%    1.604800e+03  6.338200e-02     0.175745  9.388100e-01     0.028438   \n",
       "75%    5.955900e+03  1.376950e-01     0.351922  9.820150e-01     0.273867   \n",
       "max    4.398400e+06  1.000000e+00   126.670000  1.108300e+06   119.580000   \n",
       "\n",
       "             Attr60        Attr61        Attr62       Attr63         Attr64  \n",
       "count  6.892000e+03   7005.000000  7.027000e+03  6997.000000    6993.000000  \n",
       "mean   4.328830e+02     15.642228  4.763202e+03     8.126852     208.731950  \n",
       "std    2.612802e+04    261.554534  3.107835e+05    19.996419    5140.708804  \n",
       "min    4.700000e-05      0.000016  0.000000e+00     0.000015       0.000010  \n",
       "25%    5.923950e+00      4.829000  4.322250e+01     3.425400       2.538600  \n",
       "50%    1.004050e+01      7.033700  6.850900e+01     5.303200       4.637700  \n",
       "75%    2.013900e+01     10.703000  1.063350e+02     8.357900       9.782200  \n",
       "max    2.137800e+06  21110.000000  2.501600e+07  1042.200000  294770.000000  \n",
       "\n",
       "[8 rows x 64 columns]"
      ]
     },
     "execution_count": 11,
     "metadata": {},
     "output_type": "execute_result"
    }
   ],
   "source": [
    "data_yr1.describe()"
   ]
  },
  {
   "cell_type": "markdown",
   "id": "32fbf11d",
   "metadata": {},
   "source": [
    "Features have different scales, for e.g. maximum value of Attr3 is 1 and for feature Attr64 is 294770. Hence, feature scaling is needed for the distance based algortihms to perform better."
   ]
  },
  {
   "cell_type": "markdown",
   "id": "2b4295a2",
   "metadata": {},
   "source": [
    "### Target Variable Class Distribution"
   ]
  },
  {
   "cell_type": "code",
   "execution_count": 12,
   "id": "3256f2b1",
   "metadata": {},
   "outputs": [
    {
     "data": {
      "text/html": [
       "<div>\n",
       "<style scoped>\n",
       "    .dataframe tbody tr th:only-of-type {\n",
       "        vertical-align: middle;\n",
       "    }\n",
       "\n",
       "    .dataframe tbody tr th {\n",
       "        vertical-align: top;\n",
       "    }\n",
       "\n",
       "    .dataframe thead th {\n",
       "        text-align: right;\n",
       "    }\n",
       "</style>\n",
       "<table border=\"1\" class=\"dataframe\">\n",
       "  <thead>\n",
       "    <tr style=\"text-align: right;\">\n",
       "      <th></th>\n",
       "      <th>class</th>\n",
       "      <th>ClassCounts</th>\n",
       "    </tr>\n",
       "  </thead>\n",
       "  <tbody>\n",
       "    <tr>\n",
       "      <th>0</th>\n",
       "      <td>b'0'</td>\n",
       "      <td>6756</td>\n",
       "    </tr>\n",
       "    <tr>\n",
       "      <th>1</th>\n",
       "      <td>b'1'</td>\n",
       "      <td>271</td>\n",
       "    </tr>\n",
       "  </tbody>\n",
       "</table>\n",
       "</div>"
      ],
      "text/plain": [
       "  class  ClassCounts\n",
       "0  b'0'         6756\n",
       "1  b'1'          271"
      ]
     },
     "execution_count": 12,
     "metadata": {},
     "output_type": "execute_result"
    }
   ],
   "source": [
    "typ = data_yr1['class'].value_counts()\n",
    "typ = typ.rename_axis('class').reset_index(name='ClassCounts')\n",
    "typ"
   ]
  },
  {
   "cell_type": "code",
   "execution_count": 13,
   "id": "738e3689",
   "metadata": {},
   "outputs": [
    {
     "data": {
      "text/plain": [
       "b'0'    9773\n",
       "b'1'     400\n",
       "Name: class, dtype: int64"
      ]
     },
     "execution_count": 13,
     "metadata": {},
     "output_type": "execute_result"
    }
   ],
   "source": [
    "data_yr2['class'].value_counts()"
   ]
  },
  {
   "cell_type": "code",
   "execution_count": 14,
   "id": "f704a18c",
   "metadata": {},
   "outputs": [
    {
     "data": {
      "text/plain": [
       "b'0'    10008\n",
       "b'1'      495\n",
       "Name: class, dtype: int64"
      ]
     },
     "execution_count": 14,
     "metadata": {},
     "output_type": "execute_result"
    }
   ],
   "source": [
    "data_yr3['class'].value_counts()"
   ]
  },
  {
   "cell_type": "code",
   "execution_count": 15,
   "id": "6771709e",
   "metadata": {},
   "outputs": [
    {
     "data": {
      "text/plain": [
       "b'0'    9277\n",
       "b'1'     515\n",
       "Name: class, dtype: int64"
      ]
     },
     "execution_count": 15,
     "metadata": {},
     "output_type": "execute_result"
    }
   ],
   "source": [
    "data_yr4['class'].value_counts()"
   ]
  },
  {
   "cell_type": "code",
   "execution_count": 16,
   "id": "dc4d14bb",
   "metadata": {},
   "outputs": [
    {
     "data": {
      "text/plain": [
       "b'0'    5500\n",
       "b'1'     410\n",
       "Name: class, dtype: int64"
      ]
     },
     "execution_count": 16,
     "metadata": {},
     "output_type": "execute_result"
    }
   ],
   "source": [
    "data_yr5['class'].value_counts()"
   ]
  },
  {
   "cell_type": "markdown",
   "id": "227ee8d1",
   "metadata": {},
   "source": [
    "- Replacing the b'0' with class 0 and b'1' with 1"
   ]
  },
  {
   "cell_type": "code",
   "execution_count": 17,
   "id": "948c8cc1",
   "metadata": {},
   "outputs": [
    {
     "data": {
      "text/plain": [
       "0    6756\n",
       "1     271\n",
       "Name: class, dtype: int64"
      ]
     },
     "execution_count": 17,
     "metadata": {},
     "output_type": "execute_result"
    }
   ],
   "source": [
    "#Replacing the b'0' with class 0 and b'1' with 1\n",
    "data_yr1['class'].replace({typ['class'][1]:1, typ['class'][0]:0}, inplace=True)\n",
    "data_yr2['class'].replace({typ['class'][1]:1, typ['class'][0]:0}, inplace=True)\n",
    "data_yr3['class'].replace({typ['class'][1]:1, typ['class'][0]:0}, inplace=True)\n",
    "data_yr4['class'].replace({typ['class'][1]:1, typ['class'][0]:0}, inplace=True)\n",
    "data_yr5['class'].replace({typ['class'][1]:1, typ['class'][0]:0}, inplace=True)\n",
    "data_yr1['class'].value_counts()"
   ]
  },
  {
   "cell_type": "code",
   "execution_count": 18,
   "id": "ff4cfae5",
   "metadata": {},
   "outputs": [
    {
     "data": {
      "image/png": "[encoded data removed]",
      "text/plain": [
       "<Figure size 432x288 with 1 Axes>"
      ]
     },
     "metadata": {
      "needs_background": "light"
     },
     "output_type": "display_data"
    }
   ],
   "source": [
    "# Class distribution vizualization\n",
    "years = ['Yr 2007','Yr 2008','Yr 2009','Yr 2010','Yr 2011']\n",
    "class0 = [len(data_yr1[data_yr1['class']==0]['class']), len(data_yr2[data_yr2['class']==0]['class']),\n",
    "          len(data_yr3[data_yr3['class']==0]['class']), len(data_yr4[data_yr4['class']==0]['class']),\n",
    "         len(data_yr5[data_yr5['class']==0]['class'])]\n",
    "class1 = [len(data_yr1[data_yr1['class']==1]['class']), len(data_yr2[data_yr2['class']==1]['class']),\n",
    "          len(data_yr3[data_yr3['class']==1]['class']), len(data_yr4[data_yr4['class']==1]['class']),\n",
    "         len(data_yr5[data_yr5['class']==1]['class'])]\n",
    "\n",
    "\n",
    "X_axis = np.arange(len(years))\n",
    "\n",
    "plt.bar(X_axis-0.2, class0, 0.4, label='Non-Bankrupt')\n",
    "plt.bar(X_axis+0.2, class1, 0.4, label='Bankrupt')\n",
    "\n",
    "\n",
    "plt.title(\"Class distribution For all years\")\n",
    "plt.xticks(X_axis,years)\n",
    "plt.xlabel(\"Years\")\n",
    "plt.ylabel(\"Number Of Instances\")\n",
    "plt.legend()\n",
    "plt.show()"
   ]
  },
  {
   "cell_type": "markdown",
   "id": "59de251a",
   "metadata": {},
   "source": [
    "It can be seen that we have an imbalanced dataset containing two classes - 'class 0'  which belong to Non-Bankrupt and 'class 1' belonging to bankrupt company. "
   ]
  },
  {
   "cell_type": "markdown",
   "id": "d1787591",
   "metadata": {},
   "source": [
    "## Workflow\n",
    "\n",
    ">The following cells provide data analysis, pre-processing steps, modelling on 3 datasets - **Experiment 1**: dataset from 2007 (data_yr1), **Experiment 2**: dataset from 2011 (data_yr5) and **Experiment 3**: concatenated dataset from 2007-2011 for comparision.\n",
    "\n",
    "\n",
    "- In each of the seactions, the following steps will be performed in order to prepare the dataset for model training.\n",
    "1. **Train & Test Splitting**: To avoid any data leakage.\n",
    "2. **Missing value analysis**: Using the strategy 'mean', the missing values will be filled.\n",
    "3. **Sampling**: Random oversampling Or SMOTE. \n",
    "4. **Rescaling**: Using min-max scaler\n",
    "5. **Modelling & evaluation**"
   ]
  },
  {
   "cell_type": "markdown",
   "id": "6ea80110",
   "metadata": {},
   "source": [
    "## Experiment 1\n",
    "> Analysis & modelling on dataset from 2007 (data_yr1). The prediction horizon is 5 years meaning based on data available in 2007, the model will try to predict the bankruptcy of the firms in 2012"
   ]
  },
  {
   "cell_type": "markdown",
   "id": "36e184e9",
   "metadata": {},
   "source": [
    "### 1.1 Train & Test Splitting"
   ]
  },
  {
   "cell_type": "code",
   "execution_count": 21,
   "id": "81aaff74",
   "metadata": {},
   "outputs": [],
   "source": [
    "from sklearn.model_selection import train_test_split"
   ]
  },
  {
   "cell_type": "code",
   "execution_count": 16,
   "id": "c5640158",
   "metadata": {},
   "outputs": [],
   "source": [
    "# TO maintain consistency across dataframes we need the columns list.\n",
    "cols = data_yr1.columns"
   ]
  },
  {
   "cell_type": "code",
   "execution_count": 17,
   "id": "b3c5d05b",
   "metadata": {},
   "outputs": [],
   "source": [
    "# splitting data for the year 2007 (yr1)\n",
    "y_yr1 = data_yr1['class']\n",
    "X_yr1 = data_yr1.drop(columns= ['class']).copy()\n",
    "\n",
    "X_train_yr1, X_test_yr1, y_train_yr1, y_test_yr1,  = train_test_split(X_yr1,y_yr1, train_size = 0.8, random_state=42 )"
   ]
  },
  {
   "cell_type": "code",
   "execution_count": 18,
   "id": "cfecb8e9",
   "metadata": {},
   "outputs": [
    {
     "data": {
      "text/plain": [
       "0    5401\n",
       "1     220\n",
       "Name: class, dtype: int64"
      ]
     },
     "execution_count": 18,
     "metadata": {},
     "output_type": "execute_result"
    }
   ],
   "source": [
    "y_train_yr1.value_counts()"
   ]
  },
  {
   "cell_type": "markdown",
   "id": "555e9d00",
   "metadata": {},
   "source": [
    "### 1.2 Missing values analysis & handling"
   ]
  },
  {
   "cell_type": "code",
   "execution_count": 19,
   "id": "0358007f",
   "metadata": {
    "scrolled": true
   },
   "outputs": [
    {
     "data": {
      "text/html": [
       "<div>\n",
       "<style scoped>\n",
       "    .dataframe tbody tr th:only-of-type {\n",
       "        vertical-align: middle;\n",
       "    }\n",
       "\n",
       "    .dataframe tbody tr th {\n",
       "        vertical-align: top;\n",
       "    }\n",
       "\n",
       "    .dataframe thead th {\n",
       "        text-align: right;\n",
       "    }\n",
       "</style>\n",
       "<table border=\"1\" class=\"dataframe\">\n",
       "  <thead>\n",
       "    <tr style=\"text-align: right;\">\n",
       "      <th></th>\n",
       "      <th>total</th>\n",
       "      <th>NaN_Percent</th>\n",
       "    </tr>\n",
       "  </thead>\n",
       "  <tbody>\n",
       "    <tr>\n",
       "      <th>Attr37</th>\n",
       "      <td>2740</td>\n",
       "      <td>38.99</td>\n",
       "    </tr>\n",
       "    <tr>\n",
       "      <th>Attr21</th>\n",
       "      <td>1622</td>\n",
       "      <td>23.08</td>\n",
       "    </tr>\n",
       "    <tr>\n",
       "      <th>Attr27</th>\n",
       "      <td>311</td>\n",
       "      <td>4.43</td>\n",
       "    </tr>\n",
       "    <tr>\n",
       "      <th>Attr60</th>\n",
       "      <td>135</td>\n",
       "      <td>1.92</td>\n",
       "    </tr>\n",
       "    <tr>\n",
       "      <th>Attr45</th>\n",
       "      <td>134</td>\n",
       "      <td>1.91</td>\n",
       "    </tr>\n",
       "    <tr>\n",
       "      <th>Attr24</th>\n",
       "      <td>124</td>\n",
       "      <td>1.76</td>\n",
       "    </tr>\n",
       "  </tbody>\n",
       "</table>\n",
       "</div>"
      ],
      "text/plain": [
       "        total  NaN_Percent\n",
       "Attr37   2740        38.99\n",
       "Attr21   1622        23.08\n",
       "Attr27    311         4.43\n",
       "Attr60    135         1.92\n",
       "Attr45    134         1.91\n",
       "Attr24    124         1.76"
      ]
     },
     "execution_count": 19,
     "metadata": {},
     "output_type": "execute_result"
    }
   ],
   "source": [
    "data_yr1_nan = pd.DataFrame(data_yr1.isnull().sum()).rename(columns={0:'total'})\n",
    "data_yr1_nan['NaN_Percent'] = round(100*(data_yr1_nan['total']/data_yr1.shape[0]),2)\n",
    "data_yr1_nan.sort_values('NaN_Percent',ascending= False ).head(6)"
   ]
  },
  {
   "cell_type": "markdown",
   "id": "7796633f",
   "metadata": {},
   "source": [
    "Attribute 37 corresponds to [(current assets - inventories) / long-term liabilities] and Attribute 21 to [sales (n) / sales (n-1)] where 39% & 23% of the data is missing respectively. For this section we will proceed with keeping the feature and fill the values with mean of the column. However, this is not the case since such high missing value features are usually dropped altogether."
   ]
  },
  {
   "cell_type": "code",
   "execution_count": 25,
   "id": "10d18493",
   "metadata": {},
   "outputs": [],
   "source": [
    "from sklearn.impute import SimpleImputer"
   ]
  },
  {
   "cell_type": "code",
   "execution_count": 21,
   "id": "73e8c46e",
   "metadata": {},
   "outputs": [],
   "source": [
    "# Filling the missing values with mean of the feature.\n",
    "imputer = SimpleImputer(strategy = 'mean', missing_values=np.nan)\n",
    "#imputer = imputer.fit(train_X_yr1)\n",
    "X_train_yr1 = imputer.fit_transform(X_train_yr1)\n",
    "X_test_yr1 = imputer.transform(X_test_yr1)\n"
   ]
  },
  {
   "cell_type": "markdown",
   "id": "b5d79501",
   "metadata": {},
   "source": [
    "### 1.3 Sampling\n",
    "\n",
    "Sampling is only done for the training data and prediction results are observerd on the testing data."
   ]
  },
  {
   "cell_type": "code",
   "execution_count": 22,
   "id": "72f65c51",
   "metadata": {},
   "outputs": [],
   "source": [
    "#!pip install imblearn"
   ]
  },
  {
   "cell_type": "code",
   "execution_count": 24,
   "id": "74bf2b27",
   "metadata": {},
   "outputs": [],
   "source": [
    "from imblearn.over_sampling import SMOTE, RandomOverSampler"
   ]
  },
  {
   "cell_type": "code",
   "execution_count": 24,
   "id": "07cc8266",
   "metadata": {},
   "outputs": [],
   "source": [
    "#SMOTE\n",
    "smotesample = SMOTE(sampling_strategy='not majority') # all minority classes will be oversampled to match majority\n",
    "X_train_yr1_smotesample, y_train_yr1_smotesample = smotesample.fit_resample(X_train_yr1, y_train_yr1)"
   ]
  },
  {
   "cell_type": "code",
   "execution_count": 25,
   "id": "283a7182",
   "metadata": {},
   "outputs": [],
   "source": [
    "#Randomoversampler\n",
    "rand_sample = RandomOverSampler(sampling_strategy = 'minority')\n",
    "X_train_yr1_randsample, y_train_yr1_randsample = rand_sample.fit_resample(X_train_yr1, y_train_yr1)"
   ]
  },
  {
   "cell_type": "code",
   "execution_count": 26,
   "id": "0a9d650a",
   "metadata": {},
   "outputs": [
    {
     "data": {
      "image/png": "[encoded data removed]",
      "text/plain": [
       "<Figure size 720x360 with 2 Axes>"
      ]
     },
     "metadata": {},
     "output_type": "display_data"
    }
   ],
   "source": [
    "autopct = \"%.2f\"\n",
    "fig, axs = plt.subplots(ncols=2, figsize=(10, 5))\n",
    "y_train_yr1.value_counts().plot.pie(autopct=autopct, ax=axs[0])\n",
    "axs[0].set_title(\"Before-sampling\")\n",
    "\n",
    "y_train_yr1_randsample.value_counts().plot.pie(autopct=autopct, ax=axs[1])\n",
    "axs[1].set_title(\"After-Random sampling\")\n",
    "#plt.title(\"Class distribution before & after sampling\")\n",
    "plt.show()"
   ]
  },
  {
   "cell_type": "markdown",
   "id": "f80de4d9",
   "metadata": {},
   "source": [
    "### 1.4 Normalization (Feature Scaling)"
   ]
  },
  {
   "cell_type": "code",
   "execution_count": 27,
   "id": "7e80f5f1",
   "metadata": {},
   "outputs": [],
   "source": [
    "### Normalization of data ###\n",
    "from sklearn.preprocessing import MinMaxScaler\n",
    "\n",
    "FeatureScaler=MinMaxScaler()\n",
    "\n",
    "# Storing the fit object for later reference\n",
    "FeatureScalerFit_smote=FeatureScaler.fit(X_train_yr1_smotesample)\n",
    "FeatureScalerFit_rand=FeatureScaler.fit(X_train_yr1_randsample)\n",
    "\n",
    "# Generating the normalized values of Features\n",
    "# Smote objects\n",
    "X_train_yr1_smotesample= FeatureScalerFit_smote.transform(X_train_yr1_smotesample)\n",
    "X_test_yr1_smotesample = FeatureScalerFit_smote.transform(X_test_yr1)\n",
    "\n",
    "# Random oversampler objects\n",
    "X_train_yr1_randsample= FeatureScalerFit_rand.transform(X_train_yr1_randsample)\n",
    "X_test_yr1_randsample = FeatureScalerFit_rand.transform(X_test_yr1)"
   ]
  },
  {
   "cell_type": "markdown",
   "id": "4601a3fa",
   "metadata": {},
   "source": [
    "### 1.5 Modelling & Evaluation\n",
    "\n",
    "> **Modeling**\n",
    "\n",
    "- Logistic regression\n",
    "- SVM\n",
    "- Random Forest\n",
    "- Gradient Boosting\n",
    "\n",
    "> **Evaluation**\n",
    "\n",
    "- Accuracy\n",
    "- Precision\n",
    "- Sensitivity (Important)"
   ]
  },
  {
   "cell_type": "markdown",
   "id": "c3704342",
   "metadata": {},
   "source": [
    "### Logistic Regression (LR)"
   ]
  },
  {
   "cell_type": "code",
   "execution_count": 28,
   "id": "c00f3324",
   "metadata": {},
   "outputs": [],
   "source": [
    "from sklearn.linear_model import LogisticRegression"
   ]
  },
  {
   "cell_type": "code",
   "execution_count": 29,
   "id": "23ed770b",
   "metadata": {},
   "outputs": [],
   "source": [
    "# Logistic Regression\n",
    "cv = StratifiedKFold(n_splits=10, shuffle=False)\n",
    "# choose parameter Penalty='l1' 'l2'\n",
    "# choose different values for solver 'newton-cg', 'lbfgs', 'liblinear', 'sag', 'saga'\n",
    "lr_param_grid = {'penalty':['l2','l1'],'solver':['newton-cg', 'lbfgs'] } # best parameters\n",
    "\n",
    "lr = LogisticRegression()\n",
    "LR_Grid = GridSearchCV(estimator=lr, param_grid = lr_param_grid, cv =cv )"
   ]
  },
  {
   "cell_type": "code",
   "execution_count": 30,
   "id": "14a0dd09",
   "metadata": {},
   "outputs": [
    {
     "name": "stdout",
     "output_type": "stream",
     "text": [
      "Best LR Parameters {'penalty': 'l2', 'solver': 'lbfgs'}\n",
      "              precision    recall  f1-score   support\n",
      "\n",
      "           0       0.97      0.53      0.69      1355\n",
      "           1       0.04      0.55      0.08        51\n",
      "\n",
      "    accuracy                           0.53      1406\n",
      "   macro avg       0.51      0.54      0.38      1406\n",
      "weighted avg       0.94      0.53      0.66      1406\n",
      "\n",
      "[[718 637]\n",
      " [ 23  28]]\n",
      "Recall Score of the model on Testing Sample Data: 0.55\n"
     ]
    }
   ],
   "source": [
    "# Model creation and prediction on SMOTE Data\n",
    "LR_Grid.fit(X_train_yr1_smotesample,y_train_yr1_smotesample)\n",
    "print(\"Best LR Parameters\",LR_Grid.best_params_)\n",
    "lr_clf = LR_Grid.best_estimator_\n",
    "y_pred_lr=lr_clf.predict(X_test_yr1_smotesample)\n",
    "\n",
    "# Measuring accuracy on yr1 Testing Data\n",
    "print(metrics.classification_report(y_test_yr1, y_pred_lr))\n",
    "print(metrics.confusion_matrix(y_test_yr1, y_pred_lr))\n",
    "\n",
    "# Printing the Overall Accuracy of the model\n",
    "LR_recall_Score_smote=metrics.recall_score(y_test_yr1, y_pred_lr)\n",
    "print('Recall Score of the model on Testing Sample Data:', round(LR_recall_Score_smote,2))\n"
   ]
  },
  {
   "cell_type": "code",
   "execution_count": 31,
   "id": "cf32c343",
   "metadata": {},
   "outputs": [],
   "source": [
    "lr_rand = LogisticRegression()\n",
    "LR_Grid_rand = GridSearchCV(estimator=lr_rand, param_grid = lr_param_grid, cv =cv )"
   ]
  },
  {
   "cell_type": "code",
   "execution_count": 32,
   "id": "e5366b34",
   "metadata": {},
   "outputs": [
    {
     "name": "stdout",
     "output_type": "stream",
     "text": [
      "              precision    recall  f1-score   support\n",
      "\n",
      "           0       0.97      0.53      0.69      1355\n",
      "           1       0.04      0.55      0.08        51\n",
      "\n",
      "    accuracy                           0.53      1406\n",
      "   macro avg       0.51      0.54      0.38      1406\n",
      "weighted avg       0.94      0.53      0.67      1406\n",
      "\n",
      "[[722 633]\n",
      " [ 23  28]]\n",
      "Recall Score of the model on Testing Sample Data: 0.55\n"
     ]
    }
   ],
   "source": [
    "# # Model creation and prediction on Randomoversampler Data\n",
    "LR_Grid_rand.fit(X_train_yr1_randsample,y_train_yr1_randsample)\n",
    "lr_clf_rand = LR_Grid_rand.best_estimator_\n",
    "y_pred_lr=lr_clf_rand.predict(X_test_yr1_randsample)\n",
    "\n",
    "# Measuring accuracy on yr1 Testing Data\n",
    "print(metrics.classification_report(y_test_yr1, y_pred_lr))\n",
    "print(metrics.confusion_matrix(y_test_yr1, y_pred_lr))\n",
    "\n",
    "# Printing the Overall Accuracy of the model\n",
    "LR_recall_Score_rand=metrics.recall_score(y_test_yr1, y_pred_lr)\n",
    "print('Recall Score of the model on Testing Sample Data:', round(LR_recall_Score_rand,2))"
   ]
  },
  {
   "cell_type": "markdown",
   "id": "c50b822d",
   "metadata": {},
   "source": [
    "### SVM"
   ]
  },
  {
   "cell_type": "code",
   "execution_count": 33,
   "id": "01e8ba1e",
   "metadata": {},
   "outputs": [],
   "source": [
    "from sklearn.svm import SVC"
   ]
  },
  {
   "cell_type": "code",
   "execution_count": 34,
   "id": "945d5a98",
   "metadata": {},
   "outputs": [],
   "source": [
    "# Support Vector Machine\n",
    "\n",
    "# choose different kernel{‘linear’, ‘poly’, ‘rbf’, ‘sigmoid’, ‘precomputed’}\n",
    "svc_param_grid = {'kernel':['linear', 'rbf'], 'C':[1,10] } \n",
    "\n",
    "svc =  SVC(gamma='auto')\n",
    "svc_grid = GridSearchCV(estimator=svc, param_grid = svc_param_grid, cv =cv )"
   ]
  },
  {
   "cell_type": "code",
   "execution_count": 35,
   "id": "3ee682f5",
   "metadata": {},
   "outputs": [
    {
     "name": "stdout",
     "output_type": "stream",
     "text": [
      "Best SVC Parameters {'penalty': 'l2', 'solver': 'lbfgs'}\n",
      "              precision    recall  f1-score   support\n",
      "\n",
      "           0       0.97      0.53      0.69      1355\n",
      "           1       0.04      0.55      0.08        51\n",
      "\n",
      "    accuracy                           0.53      1406\n",
      "   macro avg       0.51      0.54      0.38      1406\n",
      "weighted avg       0.94      0.53      0.67      1406\n",
      "\n",
      "[[722 633]\n",
      " [ 23  28]]\n",
      "Recall Score of the model on Testing Sample Data: 0.55\n"
     ]
    }
   ],
   "source": [
    "# Model creation and prediction on SMOTE Data\n",
    "svc_grid.fit(X_train_yr1_smotesample,y_train_yr1_smotesample)\n",
    "print(\"Best SVC Parameters\",LR_Grid.best_params_)\n",
    "svc_clf = svc_grid.best_estimator_\n",
    "y_pred_svc=svc_clf.predict(X_test_yr1_smotesample)\n",
    "\n",
    "# Measuring accuracy on yr1 Testing Data\n",
    "print(metrics.classification_report(y_test_yr1, y_pred_lr))\n",
    "print(metrics.confusion_matrix(y_test_yr1, y_pred_lr))\n",
    "\n",
    "# Printing the Overall Accuracy of the model\n",
    "svc_recall_Score_smote=metrics.recall_score(y_test_yr1, y_pred_lr)\n",
    "print('Recall Score of the model on Testing Sample Data:', round(svc_recall_Score_smote,2))\n"
   ]
  },
  {
   "cell_type": "code",
   "execution_count": 36,
   "id": "0d86a91e",
   "metadata": {},
   "outputs": [],
   "source": [
    "svc_rand = SVC(gamma='auto')\n",
    "svc_grid_rand = GridSearchCV(estimator=svc_rand, param_grid = svc_param_grid, cv =cv )"
   ]
  },
  {
   "cell_type": "code",
   "execution_count": 37,
   "id": "231cffa4",
   "metadata": {},
   "outputs": [
    {
     "name": "stdout",
     "output_type": "stream",
     "text": [
      "              precision    recall  f1-score   support\n",
      "\n",
      "           0       0.97      0.50      0.66      1355\n",
      "           1       0.04      0.61      0.08        51\n",
      "\n",
      "    accuracy                           0.50      1406\n",
      "   macro avg       0.51      0.55      0.37      1406\n",
      "weighted avg       0.94      0.50      0.64      1406\n",
      "\n",
      "[[676 679]\n",
      " [ 20  31]]\n",
      "Recall Score of the model on Testing Sample Data: 0.61\n"
     ]
    }
   ],
   "source": [
    "# Model creation and prediction on Randomoversampler Data\n",
    "svc_grid_rand.fit(X_train_yr1_randsample,y_train_yr1_randsample)\n",
    "svc_clf_rand = svc_grid_rand.best_estimator_\n",
    "y_pred_svc=svc_clf_rand.predict(X_test_yr1_randsample)\n",
    "\n",
    "# Measuring accuracy on yr1 Testing Data\n",
    "print(metrics.classification_report(y_test_yr1, y_pred_svc))\n",
    "print(metrics.confusion_matrix(y_test_yr1, y_pred_svc))\n",
    "\n",
    "# Printing the Overall Accuracy of the model\n",
    "svc_recall_Score_rand=metrics.recall_score(y_test_yr1, y_pred_svc)\n",
    "print('Recall Score of the model on Testing Sample Data:', round(svc_recall_Score_rand,2))"
   ]
  },
  {
   "cell_type": "markdown",
   "id": "2e84c12d",
   "metadata": {},
   "source": [
    "### Random Forest"
   ]
  },
  {
   "cell_type": "code",
   "execution_count": 38,
   "id": "845aa422",
   "metadata": {},
   "outputs": [],
   "source": [
    "from sklearn.ensemble import RandomForestClassifier"
   ]
  },
  {
   "cell_type": "code",
   "execution_count": 39,
   "id": "6b0c8ee9",
   "metadata": {},
   "outputs": [],
   "source": [
    "rf_param_grid = {'max_depth': [60], 'n_estimators': [500] # best Parameters\n",
    "                #'n_estimators':[50,100,500,1000], 'max_depth':[40,60,80,100] # these were tried out and commented for fast run\n",
    "                } \n",
    "\n",
    "rf = RandomForestClassifier(n_jobs=-1, criterion='gini')\n",
    "rf_grid = GridSearchCV(estimator=rf, param_grid = rf_param_grid, cv =cv )"
   ]
  },
  {
   "cell_type": "code",
   "execution_count": 40,
   "id": "beed3317",
   "metadata": {},
   "outputs": [
    {
     "name": "stdout",
     "output_type": "stream",
     "text": [
      "Best rf Parameters {'penalty': 'l2', 'solver': 'lbfgs'}\n",
      "              precision    recall  f1-score   support\n",
      "\n",
      "           0       0.97      0.53      0.69      1355\n",
      "           1       0.04      0.55      0.08        51\n",
      "\n",
      "    accuracy                           0.53      1406\n",
      "   macro avg       0.51      0.54      0.38      1406\n",
      "weighted avg       0.94      0.53      0.67      1406\n",
      "\n",
      "[[722 633]\n",
      " [ 23  28]]\n",
      "Recall Score of the model on Testing Sample Data: 0.55\n"
     ]
    }
   ],
   "source": [
    "# Model creation and prediction on SMOTE Data\n",
    "rf_grid.fit(X_train_yr1_smotesample,y_train_yr1_smotesample)\n",
    "print(\"Best rf Parameters\",LR_Grid.best_params_)\n",
    "rf_clf = rf_grid.best_estimator_\n",
    "y_pred_rf=rf_clf.predict(X_test_yr1_smotesample)\n",
    "\n",
    "# Measuring accuracy on yr1 Testing Data\n",
    "print(metrics.classification_report(y_test_yr1, y_pred_lr))\n",
    "print(metrics.confusion_matrix(y_test_yr1, y_pred_lr))\n",
    "\n",
    "# Printing the Overall Accuracy of the model\n",
    "rf_recall_Score_smote=metrics.recall_score(y_test_yr1, y_pred_lr)\n",
    "print('Recall Score of the model on Testing Sample Data:', round(rf_recall_Score_smote,2))\n"
   ]
  },
  {
   "cell_type": "code",
   "execution_count": 41,
   "id": "f3bba296",
   "metadata": {},
   "outputs": [
    {
     "data": {
      "image/png": "[encoded data removed]",
      "text/plain": [
       "<Figure size 432x288 with 1 Axes>"
      ]
     },
     "metadata": {
      "needs_background": "light"
     },
     "output_type": "display_data"
    }
   ],
   "source": [
    "features = pd.Series(rf_clf.feature_importances_, index=X_yr1.columns)\n",
    "features.nlargest(20).plot(kind='barh')\n",
    "plt.title(\"Feature Importance Chart For Random forest\")\n",
    "plt.show()"
   ]
  },
  {
   "cell_type": "markdown",
   "id": "c402ba9d",
   "metadata": {},
   "source": [
    "From the above importance chart, Attr 27 [profit on operating activities / financial expenses] found to be most important by the model for predicting the bankruptcy."
   ]
  },
  {
   "cell_type": "code",
   "execution_count": 42,
   "id": "dc74594d",
   "metadata": {},
   "outputs": [],
   "source": [
    "rf_rand = RandomForestClassifier(n_jobs=-1, criterion='gini')\n",
    "rf_grid_rand = GridSearchCV(estimator=rf_rand, param_grid = rf_param_grid, cv =cv )"
   ]
  },
  {
   "cell_type": "code",
   "execution_count": 43,
   "id": "0d30d68f",
   "metadata": {},
   "outputs": [
    {
     "name": "stdout",
     "output_type": "stream",
     "text": [
      "              precision    recall  f1-score   support\n",
      "\n",
      "           0       0.98      1.00      0.99      1355\n",
      "           1       1.00      0.43      0.60        51\n",
      "\n",
      "    accuracy                           0.98      1406\n",
      "   macro avg       0.99      0.72      0.80      1406\n",
      "weighted avg       0.98      0.98      0.98      1406\n",
      "\n",
      "[[1355    0]\n",
      " [  29   22]]\n",
      "Recall Score of the model on Testing Sample Data: 0.43\n"
     ]
    }
   ],
   "source": [
    "# Model creation and prediction on Randomoversampler Data\n",
    "rf_grid_rand.fit(X_train_yr1_randsample,y_train_yr1_randsample)\n",
    "rf_clf_rand = rf_grid_rand.best_estimator_\n",
    "y_pred_rf=rf_clf_rand.predict(X_test_yr1_randsample)\n",
    "\n",
    "# Measuring accuracy on yr1 Testing Data\n",
    "print(metrics.classification_report(y_test_yr1, y_pred_rf))\n",
    "print(metrics.confusion_matrix(y_test_yr1, y_pred_rf))\n",
    "\n",
    "# Printing the Overall Accuracy of the model\n",
    "rf_recall_Score_rand=metrics.recall_score(y_test_yr1, y_pred_rf)\n",
    "print('Recall Score of the model on Testing Sample Data:', round(rf_recall_Score_rand,2))"
   ]
  },
  {
   "cell_type": "markdown",
   "id": "bbb6fd82",
   "metadata": {},
   "source": [
    "#### XGBoost Classifier"
   ]
  },
  {
   "cell_type": "code",
   "execution_count": 44,
   "id": "41d7eb6c",
   "metadata": {},
   "outputs": [],
   "source": [
    "#!pip install xgboost\n",
    "from xgboost import XGBClassifier"
   ]
  },
  {
   "cell_type": "code",
   "execution_count": 45,
   "id": "645374a0",
   "metadata": {},
   "outputs": [],
   "source": [
    "xgb_param_grid = {#{'booster': 'gbtree', 'learning_rate': 0.1, 'max_depth': 10, 'n_estimators': 100, 'objective': 'binary:logistic'} # best Parameters\n",
    "                'n_estimators':[100], 'max_depth':[10],'objective':['binary:logistic'], 'booster':['gbtree'],\n",
    "                'learning_rate':[0.1] \n",
    "                }\n",
    "# these were tried out and commented for fast run\n",
    "#'n_estimators':[50,75,100,200], 'max_depth':[5,10,20],'objective':['binary:logistic'], 'booster':['gbtree'],'learning_rate':[0.001,0.01,0.1,0.05]\n",
    "xgb = XGBClassifier()\n",
    "xgb_grid = GridSearchCV(estimator=xgb, param_grid = xgb_param_grid, cv =cv )"
   ]
  },
  {
   "cell_type": "code",
   "execution_count": 46,
   "id": "97e2b330",
   "metadata": {},
   "outputs": [
    {
     "name": "stdout",
     "output_type": "stream",
     "text": [
      "Best xgb Parameters {'penalty': 'l2', 'solver': 'lbfgs'}\n",
      "              precision    recall  f1-score   support\n",
      "\n",
      "           0       0.97      0.53      0.69      1355\n",
      "           1       0.04      0.55      0.08        51\n",
      "\n",
      "    accuracy                           0.53      1406\n",
      "   macro avg       0.51      0.54      0.38      1406\n",
      "weighted avg       0.94      0.53      0.67      1406\n",
      "\n",
      "[[722 633]\n",
      " [ 23  28]]\n",
      "Recall Score of the model on Testing Sample Data: 0.55\n"
     ]
    }
   ],
   "source": [
    "# Model creation and prediction on SMOTE Data\n",
    "xgb_grid.fit(X_train_yr1_smotesample,y_train_yr1_smotesample)\n",
    "print(\"Best xgb Parameters\",LR_Grid.best_params_)\n",
    "xgb_clf = xgb_grid.best_estimator_\n",
    "y_pred_xgb=xgb_clf.predict(X_test_yr1_smotesample)\n",
    "\n",
    "# Measuring accuracy on yr1 Testing Data\n",
    "print(metrics.classification_report(y_test_yr1, y_pred_lr))\n",
    "print(metrics.confusion_matrix(y_test_yr1, y_pred_lr))\n",
    "\n",
    "# Printing the Overall Accuracy of the model\n",
    "xgb_recall_Score_smote=metrics.recall_score(y_test_yr1, y_pred_lr)\n",
    "print('Recall Score of the model on Testing Sample Data:', round(xgb_recall_Score_smote,2))\n"
   ]
  },
  {
   "cell_type": "code",
   "execution_count": 47,
   "id": "bd970bbb",
   "metadata": {},
   "outputs": [],
   "source": [
    "xgb_rand = XGBClassifier()\n",
    "xgb_grid_rand = GridSearchCV(estimator=xgb_rand, param_grid = xgb_param_grid, cv =cv )"
   ]
  },
  {
   "cell_type": "code",
   "execution_count": 48,
   "id": "2f7cbecd",
   "metadata": {},
   "outputs": [
    {
     "name": "stdout",
     "output_type": "stream",
     "text": [
      "              precision    recall  f1-score   support\n",
      "\n",
      "           0       0.99      0.99      0.99      1355\n",
      "           1       0.80      0.71      0.75        51\n",
      "\n",
      "    accuracy                           0.98      1406\n",
      "   macro avg       0.89      0.85      0.87      1406\n",
      "weighted avg       0.98      0.98      0.98      1406\n",
      "\n",
      "[[1346    9]\n",
      " [  15   36]]\n",
      "Recall Score of the model on Testing Sample Data: 0.71\n"
     ]
    }
   ],
   "source": [
    "# Model creation and prediction on Randomoversampler Data\n",
    "xgb_grid_rand.fit(X_train_yr1_randsample,y_train_yr1_randsample)\n",
    "xgb_clf_rand = xgb_grid_rand.best_estimator_\n",
    "y_pred_xgb=xgb_clf_rand.predict(X_test_yr1_randsample)\n",
    "\n",
    "# Measuring accuracy on yr1 Testing Data\n",
    "print(metrics.classification_report(y_test_yr1, y_pred_xgb))\n",
    "print(metrics.confusion_matrix(y_test_yr1, y_pred_xgb))\n",
    "\n",
    "# Printing the Overall Accuracy of the model\n",
    "xgb_recall_Score_rand=metrics.recall_score(y_test_yr1, y_pred_xgb)\n",
    "print('Recall Score of the model on Testing Sample Data:', round(xgb_recall_Score_rand,2))"
   ]
  },
  {
   "cell_type": "markdown",
   "id": "865e7f8f",
   "metadata": {},
   "source": [
    "#### Evaluation"
   ]
  },
  {
   "cell_type": "code",
   "execution_count": 49,
   "id": "e0a04676",
   "metadata": {},
   "outputs": [],
   "source": [
    "model_name_yr1= []\n",
    "model_recall_scores_smote = []\n",
    "model_recall_scores_rand = []\n",
    "\n",
    "model_name_yr1.append('LogisticRegression')\n",
    "model_recall_scores_smote.append(LR_recall_Score_smote)\n",
    "model_recall_scores_rand.append(LR_recall_Score_rand)\n",
    "\n",
    "model_name_yr1.append('SVM')\n",
    "model_recall_scores_smote.append(svc_recall_Score_smote)\n",
    "model_recall_scores_rand.append(svc_recall_Score_rand)\n",
    "\n",
    "model_name_yr1.append('RandomForest')\n",
    "model_recall_scores_smote.append(rf_recall_Score_smote)\n",
    "model_recall_scores_rand.append(rf_recall_Score_rand)\n",
    "\n",
    "model_name_yr1.append('XGBoost')\n",
    "model_recall_scores_smote.append(xgb_recall_Score_smote)\n",
    "model_recall_scores_rand.append(xgb_recall_Score_rand)\n",
    "\n",
    "\n",
    "models_data_smote = pd.DataFrame({'Name':model_name_yr1,'Values':model_recall_scores_smote} )\n",
    "models_data_rand = pd.DataFrame({'Name':model_name_yr1,'Values':model_recall_scores_rand} )"
   ]
  },
  {
   "cell_type": "code",
   "execution_count": 50,
   "id": "1dc0d9b7",
   "metadata": {},
   "outputs": [
    {
     "data": {
      "image/png": "[encoded data removed]",
      "text/plain": [
       "<Figure size 1080x360 with 1 Axes>"
      ]
     },
     "metadata": {
      "needs_background": "light"
     },
     "output_type": "display_data"
    }
   ],
   "source": [
    "fig, axe = plt.subplots(figsize=(15,5))\n",
    "plt.scatter(models_data_smote['Name'],models_data_smote['Values'],label='On SMOTE over sampled data')\n",
    "plt.scatter(models_data_rand['Name'],models_data_rand['Values'],label='On random over sampled data')\n",
    "plt.legend(loc=\"lower right\")\n",
    "plt.ylabel('Recall')\n",
    "plt.suptitle(\"Algorithms' Recall Comparision - Experiment setting 1\")\n",
    "plt.show()"
   ]
  },
  {
   "cell_type": "code",
   "execution_count": null,
   "id": "d49eba63",
   "metadata": {},
   "outputs": [],
   "source": []
  },
  {
   "cell_type": "markdown",
   "id": "834d12a0",
   "metadata": {},
   "source": [
    "### Observations\n",
    "\n",
    "- Random oversampling data has shown better results compared to data oversampled with SMOTE technique. Hence in the following sections, sampling will be done based on Randomoversampling technique and results will be compared with predictions on original dataset\n",
    "- The modeling is based on the year 1 data, meaning the prediction time horizon is 5 years later. Based on year 2007 data we are trying to predict bankruptcy of firms in 2012. The following section combines all the data based on each firm-year and prediction horizon will be 1 year."
   ]
  },
  {
   "cell_type": "markdown",
   "id": "d1cce2a2",
   "metadata": {},
   "source": [
    "## Experiment 2\n",
    "\n",
    "> Analysis & modelling on dataset from 2011 (data_yr5). The prediction horizon is 1 year meaning based on data available in 2011, the model will try to predict the bankruptcy of the firms in 2012."
   ]
  },
  {
   "cell_type": "markdown",
   "id": "ee8b0c98",
   "metadata": {},
   "source": [
    "#### Data Analysis"
   ]
  },
  {
   "cell_type": "code",
   "execution_count": 51,
   "id": "0fbfc51c",
   "metadata": {},
   "outputs": [
    {
     "data": {
      "image/png": "[encoded data removed]",
      "text/plain": [
       "<Figure size 864x576 with 1 Axes>"
      ]
     },
     "metadata": {
      "needs_background": "light"
     },
     "output_type": "display_data"
    }
   ],
   "source": [
    "plt.figure(figsize=(12, 8))\n",
    "plt.bar(cols, data_yr5.isna().sum())\n",
    "plt.xticks(rotation=90)\n",
    "plt.title(\"Null Value Count By Feature\")\n",
    "plt.show()"
   ]
  },
  {
   "cell_type": "code",
   "execution_count": 52,
   "id": "701ee1d6",
   "metadata": {},
   "outputs": [
    {
     "data": {
      "text/html": [
       "<div>\n",
       "<style scoped>\n",
       "    .dataframe tbody tr th:only-of-type {\n",
       "        vertical-align: middle;\n",
       "    }\n",
       "\n",
       "    .dataframe tbody tr th {\n",
       "        vertical-align: top;\n",
       "    }\n",
       "\n",
       "    .dataframe thead th {\n",
       "        text-align: right;\n",
       "    }\n",
       "</style>\n",
       "<table border=\"1\" class=\"dataframe\">\n",
       "  <thead>\n",
       "    <tr style=\"text-align: right;\">\n",
       "      <th></th>\n",
       "      <th>total</th>\n",
       "      <th>NaN_Percent</th>\n",
       "    </tr>\n",
       "  </thead>\n",
       "  <tbody>\n",
       "    <tr>\n",
       "      <th>Attr37</th>\n",
       "      <td>2548</td>\n",
       "      <td>43.11</td>\n",
       "    </tr>\n",
       "    <tr>\n",
       "      <th>Attr27</th>\n",
       "      <td>391</td>\n",
       "      <td>6.62</td>\n",
       "    </tr>\n",
       "    <tr>\n",
       "      <th>Attr45</th>\n",
       "      <td>268</td>\n",
       "      <td>4.53</td>\n",
       "    </tr>\n",
       "    <tr>\n",
       "      <th>Attr60</th>\n",
       "      <td>268</td>\n",
       "      <td>4.53</td>\n",
       "    </tr>\n",
       "    <tr>\n",
       "      <th>Attr24</th>\n",
       "      <td>135</td>\n",
       "      <td>2.28</td>\n",
       "    </tr>\n",
       "    <tr>\n",
       "      <th>Attr54</th>\n",
       "      <td>107</td>\n",
       "      <td>1.81</td>\n",
       "    </tr>\n",
       "  </tbody>\n",
       "</table>\n",
       "</div>"
      ],
      "text/plain": [
       "        total  NaN_Percent\n",
       "Attr37   2548        43.11\n",
       "Attr27    391         6.62\n",
       "Attr45    268         4.53\n",
       "Attr60    268         4.53\n",
       "Attr24    135         2.28\n",
       "Attr54    107         1.81"
      ]
     },
     "execution_count": 52,
     "metadata": {},
     "output_type": "execute_result"
    }
   ],
   "source": [
    "data_yr5_nan = pd.DataFrame(data_yr5.isnull().sum()).rename(columns={0:'total'})\n",
    "data_yr5_nan['NaN_Percent'] = round(100*(data_yr5_nan['total']/data_yr5.shape[0]),2)\n",
    "data_yr5_nan.sort_values('NaN_Percent',ascending= False ).head(6)"
   ]
  },
  {
   "cell_type": "markdown",
   "id": "2ae52168",
   "metadata": {},
   "source": [
    "Attr37 contains 43% missing values. Hence we can drop this feature."
   ]
  },
  {
   "cell_type": "code",
   "execution_count": 19,
   "id": "bee5904c",
   "metadata": {},
   "outputs": [
    {
     "data": {
      "text/html": [
       "<div>\n",
       "<style scoped>\n",
       "    .dataframe tbody tr th:only-of-type {\n",
       "        vertical-align: middle;\n",
       "    }\n",
       "\n",
       "    .dataframe tbody tr th {\n",
       "        vertical-align: top;\n",
       "    }\n",
       "\n",
       "    .dataframe thead th {\n",
       "        text-align: right;\n",
       "    }\n",
       "</style>\n",
       "<table border=\"1\" class=\"dataframe\">\n",
       "  <thead>\n",
       "    <tr style=\"text-align: right;\">\n",
       "      <th></th>\n",
       "      <th>Attr1</th>\n",
       "      <th>Attr2</th>\n",
       "      <th>Attr3</th>\n",
       "      <th>Attr4</th>\n",
       "      <th>Attr5</th>\n",
       "      <th>Attr6</th>\n",
       "      <th>Attr7</th>\n",
       "      <th>Attr8</th>\n",
       "      <th>Attr9</th>\n",
       "      <th>Attr10</th>\n",
       "      <th>...</th>\n",
       "      <th>Attr56</th>\n",
       "      <th>Attr57</th>\n",
       "      <th>Attr58</th>\n",
       "      <th>Attr59</th>\n",
       "      <th>Attr60</th>\n",
       "      <th>Attr61</th>\n",
       "      <th>Attr62</th>\n",
       "      <th>Attr63</th>\n",
       "      <th>Attr64</th>\n",
       "      <th>class</th>\n",
       "    </tr>\n",
       "  </thead>\n",
       "  <tbody>\n",
       "    <tr>\n",
       "      <th>0</th>\n",
       "      <td>0.088238</td>\n",
       "      <td>0.55472</td>\n",
       "      <td>0.01134</td>\n",
       "      <td>1.0205</td>\n",
       "      <td>-66.5200</td>\n",
       "      <td>0.342040</td>\n",
       "      <td>0.109490</td>\n",
       "      <td>0.57752</td>\n",
       "      <td>1.0881</td>\n",
       "      <td>0.32036</td>\n",
       "      <td>...</td>\n",
       "      <td>0.080955</td>\n",
       "      <td>0.275430</td>\n",
       "      <td>0.91905</td>\n",
       "      <td>0.002024</td>\n",
       "      <td>7.2711</td>\n",
       "      <td>4.7343</td>\n",
       "      <td>142.760</td>\n",
       "      <td>2.5568</td>\n",
       "      <td>3.2597</td>\n",
       "      <td>0</td>\n",
       "    </tr>\n",
       "    <tr>\n",
       "      <th>1</th>\n",
       "      <td>-0.006202</td>\n",
       "      <td>0.48465</td>\n",
       "      <td>0.23298</td>\n",
       "      <td>1.5998</td>\n",
       "      <td>6.1825</td>\n",
       "      <td>0.000000</td>\n",
       "      <td>-0.006202</td>\n",
       "      <td>1.06340</td>\n",
       "      <td>1.2757</td>\n",
       "      <td>0.51535</td>\n",
       "      <td>...</td>\n",
       "      <td>-0.028591</td>\n",
       "      <td>-0.012035</td>\n",
       "      <td>1.00470</td>\n",
       "      <td>0.152220</td>\n",
       "      <td>6.0911</td>\n",
       "      <td>3.2749</td>\n",
       "      <td>111.140</td>\n",
       "      <td>3.2841</td>\n",
       "      <td>3.3700</td>\n",
       "      <td>0</td>\n",
       "    </tr>\n",
       "    <tr>\n",
       "      <th>2</th>\n",
       "      <td>0.130240</td>\n",
       "      <td>0.22142</td>\n",
       "      <td>0.57751</td>\n",
       "      <td>3.6082</td>\n",
       "      <td>120.0400</td>\n",
       "      <td>0.187640</td>\n",
       "      <td>0.162120</td>\n",
       "      <td>3.05900</td>\n",
       "      <td>1.1415</td>\n",
       "      <td>0.67731</td>\n",
       "      <td>...</td>\n",
       "      <td>0.123960</td>\n",
       "      <td>0.192290</td>\n",
       "      <td>0.87604</td>\n",
       "      <td>0.000000</td>\n",
       "      <td>8.7934</td>\n",
       "      <td>2.9870</td>\n",
       "      <td>71.531</td>\n",
       "      <td>5.1027</td>\n",
       "      <td>5.6188</td>\n",
       "      <td>0</td>\n",
       "    </tr>\n",
       "    <tr>\n",
       "      <th>3</th>\n",
       "      <td>-0.089951</td>\n",
       "      <td>0.88700</td>\n",
       "      <td>0.26927</td>\n",
       "      <td>1.5222</td>\n",
       "      <td>-55.9920</td>\n",
       "      <td>-0.073957</td>\n",
       "      <td>-0.089951</td>\n",
       "      <td>0.12740</td>\n",
       "      <td>1.2754</td>\n",
       "      <td>0.11300</td>\n",
       "      <td>...</td>\n",
       "      <td>0.418840</td>\n",
       "      <td>-0.796020</td>\n",
       "      <td>0.59074</td>\n",
       "      <td>2.878700</td>\n",
       "      <td>7.6524</td>\n",
       "      <td>3.3302</td>\n",
       "      <td>147.560</td>\n",
       "      <td>2.4735</td>\n",
       "      <td>5.9299</td>\n",
       "      <td>0</td>\n",
       "    </tr>\n",
       "    <tr>\n",
       "      <th>4</th>\n",
       "      <td>0.048179</td>\n",
       "      <td>0.55041</td>\n",
       "      <td>0.10765</td>\n",
       "      <td>1.2437</td>\n",
       "      <td>-22.9590</td>\n",
       "      <td>0.000000</td>\n",
       "      <td>0.059280</td>\n",
       "      <td>0.81682</td>\n",
       "      <td>1.5150</td>\n",
       "      <td>0.44959</td>\n",
       "      <td>...</td>\n",
       "      <td>0.240400</td>\n",
       "      <td>0.107160</td>\n",
       "      <td>0.77048</td>\n",
       "      <td>0.139380</td>\n",
       "      <td>10.1180</td>\n",
       "      <td>4.0950</td>\n",
       "      <td>106.430</td>\n",
       "      <td>3.4294</td>\n",
       "      <td>3.3622</td>\n",
       "      <td>0</td>\n",
       "    </tr>\n",
       "  </tbody>\n",
       "</table>\n",
       "<p>5 rows × 64 columns</p>\n",
       "</div>"
      ],
      "text/plain": [
       "      Attr1    Attr2    Attr3   Attr4     Attr5     Attr6     Attr7    Attr8  \\\n",
       "0  0.088238  0.55472  0.01134  1.0205  -66.5200  0.342040  0.109490  0.57752   \n",
       "1 -0.006202  0.48465  0.23298  1.5998    6.1825  0.000000 -0.006202  1.06340   \n",
       "2  0.130240  0.22142  0.57751  3.6082  120.0400  0.187640  0.162120  3.05900   \n",
       "3 -0.089951  0.88700  0.26927  1.5222  -55.9920 -0.073957 -0.089951  0.12740   \n",
       "4  0.048179  0.55041  0.10765  1.2437  -22.9590  0.000000  0.059280  0.81682   \n",
       "\n",
       "    Attr9   Attr10  ...    Attr56    Attr57   Attr58    Attr59   Attr60  \\\n",
       "0  1.0881  0.32036  ...  0.080955  0.275430  0.91905  0.002024   7.2711   \n",
       "1  1.2757  0.51535  ... -0.028591 -0.012035  1.00470  0.152220   6.0911   \n",
       "2  1.1415  0.67731  ...  0.123960  0.192290  0.87604  0.000000   8.7934   \n",
       "3  1.2754  0.11300  ...  0.418840 -0.796020  0.59074  2.878700   7.6524   \n",
       "4  1.5150  0.44959  ...  0.240400  0.107160  0.77048  0.139380  10.1180   \n",
       "\n",
       "   Attr61   Attr62  Attr63  Attr64  class  \n",
       "0  4.7343  142.760  2.5568  3.2597      0  \n",
       "1  3.2749  111.140  3.2841  3.3700      0  \n",
       "2  2.9870   71.531  5.1027  5.6188      0  \n",
       "3  3.3302  147.560  2.4735  5.9299      0  \n",
       "4  4.0950  106.430  3.4294  3.3622      0  \n",
       "\n",
       "[5 rows x 64 columns]"
      ]
     },
     "execution_count": 19,
     "metadata": {},
     "output_type": "execute_result"
    }
   ],
   "source": [
    "# making a copy before dropping columns\n",
    "data_yr5_ = data_yr5.copy()\n",
    "data_yr5_ = data_yr5_.drop(columns= ['Attr37'])\n",
    "data_yr5_.head()"
   ]
  },
  {
   "cell_type": "markdown",
   "id": "04dcb258",
   "metadata": {},
   "source": [
    "### 2.1 Train & Test Splitting"
   ]
  },
  {
   "cell_type": "code",
   "execution_count": 22,
   "id": "3716dc25",
   "metadata": {},
   "outputs": [
    {
     "name": "stdout",
     "output_type": "stream",
     "text": [
      "Observations in year 2011 training data:  4728 \n",
      " class\n",
      "0        4408\n",
      "1         320\n",
      "dtype: int64\n",
      "Observations in year 2011 testing data:  1182 \n",
      " class\n",
      "0        1092\n",
      "1          90\n",
      "dtype: int64\n"
     ]
    }
   ],
   "source": [
    "y_yr5 = data_yr5_['class']\n",
    "X_yr5 = data_yr5_.drop(columns= ['class']).copy()\n",
    "\n",
    "X_train_yr5, X_test_yr5, y_train_yr5, y_test_yr5,  = train_test_split(X_yr5,y_yr5, train_size = 0.8, random_state = 42 )\n",
    "\n",
    "print('Observations in year 2011 training data: ',  len(y_train_yr5),'\\n', pd.DataFrame(y_train_yr5).value_counts() )\n",
    "print('Observations in year 2011 testing data: ',  len(y_test_yr5), '\\n', pd.DataFrame(y_test_yr5).value_counts())"
   ]
  },
  {
   "cell_type": "markdown",
   "id": "bf8f9803",
   "metadata": {},
   "source": [
    "### 2.2 Missing Value Imputation"
   ]
  },
  {
   "cell_type": "code",
   "execution_count": 26,
   "id": "3c5263ac",
   "metadata": {},
   "outputs": [],
   "source": [
    "imputer = SimpleImputer(strategy = 'mean', missing_values=np.nan)\n",
    "#imputer = imputer.fit(train_X_yr1)\n",
    "X_train_yr5 = imputer.fit_transform(X_train_yr5)\n",
    "X_test_yr5 = imputer.transform(X_test_yr5)"
   ]
  },
  {
   "cell_type": "markdown",
   "id": "25b02d87",
   "metadata": {},
   "source": [
    "### 2.3 Sampling"
   ]
  },
  {
   "cell_type": "code",
   "execution_count": 27,
   "id": "93552a11",
   "metadata": {},
   "outputs": [],
   "source": [
    "randomsampler = RandomOverSampler(sampling_strategy = 'minority') \n",
    "# majority strategy will remove the class 0 samples whihc results in loss of information.\n",
    "X_train_yr5_rand, y_train_yr5_rand = randomsampler.fit_resample(X_train_yr5, y_train_yr5)"
   ]
  },
  {
   "cell_type": "code",
   "execution_count": 57,
   "id": "0419c971",
   "metadata": {},
   "outputs": [
    {
     "data": {
      "image/png": "[encoded data removed]",
      "text/plain": [
       "<Figure size 720x360 with 2 Axes>"
      ]
     },
     "metadata": {},
     "output_type": "display_data"
    }
   ],
   "source": [
    "fig, axs = plt.subplots(ncols=2, figsize=(10, 5))\n",
    "y_train_yr5.value_counts().plot.pie(autopct=autopct, ax=axs[0])\n",
    "axs[0].set_title(\"Before-sampling\")\n",
    "\n",
    "y_train_yr5_rand.value_counts().plot.pie(autopct=autopct, ax=axs[1])\n",
    "axs[1].set_title(\"After-sampling\")\n",
    "#plt.title(\"Class distribution before & after sampling\")\n",
    "plt.show()"
   ]
  },
  {
   "cell_type": "markdown",
   "id": "d0092199",
   "metadata": {},
   "source": [
    "### 2.4 Feature Scaling (Min-Max Scaler)"
   ]
  },
  {
   "cell_type": "code",
   "execution_count": 28,
   "id": "817196e1",
   "metadata": {},
   "outputs": [],
   "source": [
    "from sklearn.preprocessing import MinMaxScaler"
   ]
  },
  {
   "cell_type": "code",
   "execution_count": 29,
   "id": "54d6fd85",
   "metadata": {},
   "outputs": [],
   "source": [
    "FeatureScaler=MinMaxScaler()\n",
    "\n",
    "# Storing the fit object for later reference\n",
    "FeatureScalerFit=FeatureScaler.fit(X_train_yr5)\n",
    "FeatureScalerFit_rand=FeatureScaler.fit(X_train_yr5_rand)\n",
    "\n",
    "# Generating the normalized values of Features\n",
    "\n",
    "# Dataframe with Random oversampler objects\n",
    "X_train_yr5_rand = FeatureScalerFit_rand.transform(X_train_yr5_rand)\n",
    "X_test_yr5_rand = FeatureScalerFit_rand.transform(X_test_yr5)\n",
    "\n",
    "# Dataframe Without sampling\n",
    "X_train_yr5 = FeatureScalerFit.transform(X_train_yr5)\n",
    "X_test_yr5 = FeatureScalerFit.transform(X_test_yr5)"
   ]
  },
  {
   "cell_type": "markdown",
   "id": "a5c40cd0",
   "metadata": {},
   "source": [
    "### 2.5 Modelling & Evaluation\n",
    "\n",
    "> **Modeling**\n",
    "\n",
    "- Logistic regression\n",
    "- SVM (linear & Radial)\n",
    "- Random Forest\n",
    "- Gradient Boosting\n",
    "- Neural Networks\n",
    "\n",
    "> **Evaluation**\n",
    "\n",
    "- Accuracy\n",
    "- Precision\n",
    "- Sensitivity (Important)"
   ]
  },
  {
   "cell_type": "code",
   "execution_count": null,
   "id": "b48877b4",
   "metadata": {},
   "outputs": [],
   "source": []
  },
  {
   "cell_type": "code",
   "execution_count": 39,
   "id": "64339d7c",
   "metadata": {},
   "outputs": [],
   "source": [
    "def model(X_train, y_train,X_test,y_test, param, estimator, cv):\n",
    "    #Gridsearch CV\n",
    "    model_grid = GridSearchCV(estimator=estimator, param_grid = param, cv =cv )\n",
    "    model_grid.fit(X_train, y_train)\n",
    "    \n",
    "    # best estimator\n",
    "    print(\"Best model parameters\",model_grid.best_params_)\n",
    "    model_classifier = model_grid.best_estimator_\n",
    "    #prediction\n",
    "    y_pred = model_classifier.predict(X_test)\n",
    "    #metrics\n",
    "    print(\"Classification Report\")\n",
    "    print(classification_report(y_test, y_pred))\n",
    "    print(\"Confusion Matrix\")\n",
    "    print(confusion_matrix(y_test, y_pred))\n",
    "    \n",
    "    # Printing the Overall recall of the model\n",
    "    recall_Score=recall_score(y_test, y_pred)\n",
    "    print('Recall Score of the model on Testing Sample Data:', round(recall_Score,2))\n",
    "    \n",
    "    return (model_classifier,recall_Score)"
   ]
  },
  {
   "cell_type": "code",
   "execution_count": 31,
   "id": "44bdf7c2",
   "metadata": {},
   "outputs": [],
   "source": [
    "from sklearn.ensemble import RandomForestClassifier"
   ]
  },
  {
   "cell_type": "code",
   "execution_count": 34,
   "id": "bb7449ee",
   "metadata": {},
   "outputs": [],
   "source": [
    "cv = StratifiedKFold(n_splits=10, shuffle=False)"
   ]
  },
  {
   "cell_type": "code",
   "execution_count": 32,
   "id": "1b09e68d",
   "metadata": {},
   "outputs": [],
   "source": [
    "rf_param_grid = {'max_depth': [60], 'n_estimators': [1000] # best Parameters\n",
    "                #'n_estimators':[50,100,500,1000], 'max_depth':[40,60,80,100] # these were tried out and commented for fast run\n",
    "                } \n",
    "\n",
    "rf = RandomForestClassifier(n_jobs=-1, criterion='gini')"
   ]
  },
  {
   "cell_type": "code",
   "execution_count": 40,
   "id": "d19cc2ba",
   "metadata": {},
   "outputs": [
    {
     "name": "stdout",
     "output_type": "stream",
     "text": [
      "Best model parameters {'max_depth': 60, 'n_estimators': 1000}\n",
      "Classification Report\n",
      "              precision    recall  f1-score   support\n",
      "\n",
      "           0       0.95      0.98      0.97      1092\n",
      "           1       0.68      0.42      0.52        90\n",
      "\n",
      "    accuracy                           0.94      1182\n",
      "   macro avg       0.82      0.70      0.74      1182\n",
      "weighted avg       0.93      0.94      0.93      1182\n",
      "\n",
      "Confusion Matrix\n",
      "[[1074   18]\n",
      " [  52   38]]\n",
      "Recall Score of the model on Testing Sample Data: 0.42\n"
     ]
    }
   ],
   "source": [
    "rf_model, rf_recall_score = model(X_train_yr5_rand, y_train_yr5_rand , X_test_yr5_rand,y_test_yr5, rf_param_grid,rf,cv)"
   ]
  },
  {
   "cell_type": "code",
   "execution_count": 36,
   "id": "7462f5c5",
   "metadata": {},
   "outputs": [
    {
     "data": {
      "text/plain": [
       "0.45555555555555555"
      ]
     },
     "execution_count": 36,
     "metadata": {},
     "output_type": "execute_result"
    }
   ],
   "source": [
    "rf_recall_score"
   ]
  },
  {
   "cell_type": "code",
   "execution_count": 37,
   "id": "632789c7",
   "metadata": {},
   "outputs": [
    {
     "data": {
      "text/plain": [
       "array([0.0133029 , 0.00946198, 0.01156912, 0.01106347, 0.00981251,\n",
       "       0.01537382, 0.01410329, 0.00956894, 0.01262854, 0.00949846,\n",
       "       0.01350839, 0.01300112, 0.02320004, 0.01536397, 0.01904516,\n",
       "       0.02177122, 0.00956049, 0.01386654, 0.00990482, 0.01078666,\n",
       "       0.03970343, 0.02907088, 0.01147871, 0.01919796, 0.01763998,\n",
       "       0.02872308, 0.06242002, 0.01081062, 0.02055289, 0.00745116,\n",
       "       0.0095496 , 0.00651095, 0.0066621 , 0.02072764, 0.05001864,\n",
       "       0.00816199, 0.01565565, 0.04489192, 0.01118432, 0.03109799,\n",
       "       0.03298241, 0.01443877, 0.0136346 , 0.00981123, 0.02688108,\n",
       "       0.00974268, 0.01036748, 0.00818176, 0.00931891, 0.01064373,\n",
       "       0.0067972 , 0.01031955, 0.01055151, 0.02187575, 0.01226037,\n",
       "       0.00760426, 0.01106782, 0.00581708, 0.00888211, 0.01392967,\n",
       "       0.00880486, 0.00904536, 0.00914084])"
      ]
     },
     "execution_count": 37,
     "metadata": {},
     "output_type": "execute_result"
    }
   ],
   "source": []
  },
  {
   "cell_type": "markdown",
   "id": "36dd2b6a",
   "metadata": {},
   "source": [
    "#### LR"
   ]
  },
  {
   "cell_type": "code",
   "execution_count": null,
   "id": "e3f63faf",
   "metadata": {},
   "outputs": [],
   "source": []
  },
  {
   "cell_type": "code",
   "execution_count": 59,
   "id": "cc8c4ac2",
   "metadata": {},
   "outputs": [],
   "source": [
    "# Logistic Regression\n",
    "\n",
    "# choose different values for solver 'newton-cg', 'lbfgs', 'liblinear', 'sag', 'saga'\n",
    "lr_param_grid = {#'penalty':['l2','l1'],'solver':['newton-cg', 'lbfgs']\n",
    "                 'penalty': ['l2'], 'solver': ['lbfgs']} # best parameters\n",
    "\n",
    "lr = LogisticRegression()\n",
    "LR_Grid = GridSearchCV(estimator=lr, param_grid = lr_param_grid, cv =cv )"
   ]
  },
  {
   "cell_type": "code",
   "execution_count": 60,
   "id": "bb778625",
   "metadata": {},
   "outputs": [
    {
     "name": "stdout",
     "output_type": "stream",
     "text": [
      "Best LR Parameters {'penalty': 'l2', 'solver': 'lbfgs'}\n",
      "              precision    recall  f1-score   support\n",
      "\n",
      "           0       0.92      1.00      0.96      1092\n",
      "           1       0.00      0.00      0.00        90\n",
      "\n",
      "    accuracy                           0.92      1182\n",
      "   macro avg       0.46      0.50      0.48      1182\n",
      "weighted avg       0.85      0.92      0.89      1182\n",
      "\n",
      "[[1091    1]\n",
      " [  90    0]]\n",
      "Recall Score of the model on Testing Sample Data: 0.0\n"
     ]
    }
   ],
   "source": [
    "# Creating the model on original training data\n",
    "LR_Grid.fit(X_train_yr5,y_train_yr5)\n",
    "print(\"Best LR Parameters\",LR_Grid.best_params_)\n",
    "lr_clf = LR_Grid.best_estimator_\n",
    "y_pred_lr=lr_clf.predict(X_test_yr5)\n",
    "\n",
    "# Measuring accuracy on original testing Data\n",
    "print(metrics.classification_report(y_test_yr5, y_pred_lr))\n",
    "print(metrics.confusion_matrix(y_test_yr5, y_pred_lr))\n",
    "\n",
    "# Printing the Overall Accuracy of the model\n",
    "LR_recall_Score_yr5=metrics.recall_score(y_test_yr5, y_pred_lr)\n",
    "print('Recall Score of the model on Testing Sample Data:', round(LR_recall_Score_yr5,2))\n"
   ]
  },
  {
   "cell_type": "code",
   "execution_count": 61,
   "id": "cb4e047a",
   "metadata": {},
   "outputs": [],
   "source": [
    "# Logistic Regression for oversampled data\n",
    "\n",
    "# choose different values for solver 'newton-cg', 'lbfgs', 'liblinear', 'sag', 'saga'\n",
    "lr_param_grid = {#'penalty':['l2','l1'],'solver':['newton-cg', 'lbfgs']\n",
    "                 'penalty': ['l2'], 'solver': ['lbfgs']} # best parameters\n",
    "\n",
    "lr_rand = LogisticRegression()\n",
    "LR_rand_Grid = GridSearchCV(estimator=lr_rand, param_grid = lr_param_grid, cv =cv )"
   ]
  },
  {
   "cell_type": "code",
   "execution_count": 63,
   "id": "93531f9b",
   "metadata": {},
   "outputs": [
    {
     "name": "stdout",
     "output_type": "stream",
     "text": [
      "Best LR Parameters {'penalty': 'l2', 'solver': 'lbfgs'}\n",
      "              precision    recall  f1-score   support\n",
      "\n",
      "           0       0.96      0.69      0.80      1092\n",
      "           1       0.14      0.62      0.23        90\n",
      "\n",
      "    accuracy                           0.68      1182\n",
      "   macro avg       0.55      0.66      0.52      1182\n",
      "weighted avg       0.89      0.68      0.76      1182\n",
      "\n",
      "[[753 339]\n",
      " [ 34  56]]\n",
      "Recall Score of the model on Testing Sample Data: 0.62\n"
     ]
    }
   ],
   "source": [
    "# Creating the model on oversampled training data\n",
    "LR_Grid.fit(X_train_yr5_rand,y_train_yr5_rand)\n",
    "print(\"Best LR Parameters\",LR_Grid.best_params_)\n",
    "lr_clf = LR_Grid.best_estimator_\n",
    "y_pred_lr=lr_clf.predict(X_test_yr5_rand)\n",
    "\n",
    "# Measuring accuracy on Testing Data\n",
    "print(metrics.classification_report(y_test_yr5, y_pred_lr))\n",
    "print(metrics.confusion_matrix(y_test_yr5, y_pred_lr))\n",
    "\n",
    "# Printing the Overall Accuracy of the model\n",
    "LR_recall_Score_yr5_rand=metrics.recall_score(y_test_yr5, y_pred_lr)\n",
    "print('Recall Score of the model on Testing Sample Data:', round(LR_recall_Score_yr5_rand,2))\n"
   ]
  },
  {
   "cell_type": "markdown",
   "id": "b377af50",
   "metadata": {},
   "source": [
    "#### SVM (linear)"
   ]
  },
  {
   "cell_type": "code",
   "execution_count": 64,
   "id": "a026f999",
   "metadata": {},
   "outputs": [],
   "source": [
    "# Support Vector Machine\n",
    "\n",
    "# choose different kernel{‘linear’, ‘poly’, ‘rbf’, ‘sigmoid’, ‘precomputed’}\n",
    "svc_param_grid = {'kernel':['linear'], 'C':[1,10] } \n",
    "\n",
    "svc =  SVC(gamma='auto')\n",
    "SVC_Grid = GridSearchCV(estimator=svc, param_grid = svc_param_grid, cv =cv )"
   ]
  },
  {
   "cell_type": "code",
   "execution_count": 65,
   "id": "96b940dd",
   "metadata": {},
   "outputs": [
    {
     "name": "stdout",
     "output_type": "stream",
     "text": [
      "Best SVC Parameters {'C': 10, 'kernel': 'linear'}\n",
      "              precision    recall  f1-score   support\n",
      "\n",
      "           0       0.93      1.00      0.96      1092\n",
      "           1       0.50      0.02      0.04        90\n",
      "\n",
      "    accuracy                           0.92      1182\n",
      "   macro avg       0.71      0.51      0.50      1182\n",
      "weighted avg       0.89      0.92      0.89      1182\n",
      "\n",
      "[[1090    2]\n",
      " [  88    2]]\n",
      "Recall Score of the model on Testing Sample Data: 0.02\n"
     ]
    }
   ],
   "source": [
    "# Creating the model on original Training Data\n",
    "SVC_Grid.fit(X_train_yr5,y_train_yr5)\n",
    "print(\"Best SVC Parameters\",SVC_Grid.best_params_)\n",
    "SVC_clf = SVC_Grid.best_estimator_\n",
    "y_pred_SVC=SVC_clf.predict(X_test_yr5)\n",
    "\n",
    "# Measuring accuracy on original Testing Data\n",
    "print(metrics.classification_report(y_test_yr5, y_pred_SVC))\n",
    "print(metrics.confusion_matrix(y_test_yr5, y_pred_SVC))\n",
    "\n",
    "# Printing the Overall Accuracy of the model\n",
    "SVC_lin_recall_Score_yr5=metrics.recall_score(y_test_yr5, y_pred_SVC)\n",
    "print('Recall Score of the model on Testing Sample Data:', round(SVC_lin_recall_Score_yr5,2))\n"
   ]
  },
  {
   "cell_type": "code",
   "execution_count": 66,
   "id": "4acd08fc",
   "metadata": {},
   "outputs": [
    {
     "name": "stdout",
     "output_type": "stream",
     "text": [
      "Best SVC Parameters {'C': 10, 'kernel': 'linear'}\n",
      "              precision    recall  f1-score   support\n",
      "\n",
      "           0       0.97      0.82      0.89      1092\n",
      "           1       0.24      0.69      0.35        90\n",
      "\n",
      "    accuracy                           0.81      1182\n",
      "   macro avg       0.60      0.75      0.62      1182\n",
      "weighted avg       0.91      0.81      0.85      1182\n",
      "\n",
      "[[894 198]\n",
      " [ 28  62]]\n",
      "Recall Score of the model on Testing Sample Data: 0.69\n"
     ]
    }
   ],
   "source": [
    "# Creating the model on oversampled Training Data\n",
    "SVC_Grid.fit(X_train_yr5_rand,y_train_yr5_rand)\n",
    "print(\"Best SVC Parameters\",SVC_Grid.best_params_)\n",
    "SVC_clf = SVC_Grid.best_estimator_\n",
    "y_pred_SVC=SVC_clf.predict(X_test_yr5_rand)\n",
    "\n",
    "# Measuring accuracy on original Testing Data\n",
    "print(metrics.classification_report(y_test_yr5, y_pred_SVC))\n",
    "print(metrics.confusion_matrix(y_test_yr5, y_pred_SVC))\n",
    "\n",
    "# Printing the Overall Accuracy of the model\n",
    "SVC_lin_recall_Score_yr5_rand=metrics.recall_score(y_test_yr5, y_pred_SVC)\n",
    "print('Recall Score of the model on Testing Sample Data:', round(SVC_lin_recall_Score_yr5_rand,2))\n"
   ]
  },
  {
   "cell_type": "markdown",
   "id": "a267c9bf",
   "metadata": {},
   "source": [
    "#### SVM (Raadial Basis Function)"
   ]
  },
  {
   "cell_type": "code",
   "execution_count": 67,
   "id": "d95742ef",
   "metadata": {},
   "outputs": [],
   "source": [
    "# Support Vector Machine\n",
    "\n",
    "# choose different kernel{‘linear’, ‘poly’, ‘rbf’, ‘sigmoid’, ‘precomputed’}\n",
    "svc_param_grid = {'kernel':['rbf'], 'C':[1,10] } \n",
    "\n",
    "svc =  SVC(gamma='auto')\n",
    "SVC_Grid = GridSearchCV(estimator=svc, param_grid = svc_param_grid, cv =cv )"
   ]
  },
  {
   "cell_type": "code",
   "execution_count": 68,
   "id": "4862d2ce",
   "metadata": {},
   "outputs": [
    {
     "name": "stdout",
     "output_type": "stream",
     "text": [
      "Best SVC hyperparameters {'C': 1, 'kernel': 'rbf'}\n",
      "              precision    recall  f1-score   support\n",
      "\n",
      "           0       0.92      1.00      0.96      1092\n",
      "           1       0.00      0.00      0.00        90\n",
      "\n",
      "    accuracy                           0.92      1182\n",
      "   macro avg       0.46      0.50      0.48      1182\n",
      "weighted avg       0.85      0.92      0.89      1182\n",
      "\n",
      "[[1092    0]\n",
      " [  90    0]]\n",
      "Recall Score of the model on Testing Sample Data: 0.02\n"
     ]
    }
   ],
   "source": [
    "# Creating the model on original Training Data\n",
    "SVC_Grid.fit(X_train_yr5,y_train_yr5)\n",
    "print(\"Best SVC hyperparameters\",SVC_Grid.best_params_)\n",
    "SVC_clf = SVC_Grid.best_estimator_\n",
    "y_pred_SVC=SVC_clf.predict(X_test_yr5)\n",
    "\n",
    "# Measuring accuracy on original Testing Data\n",
    "print(metrics.classification_report(y_test_yr5, y_pred_SVC))\n",
    "print(metrics.confusion_matrix(y_test_yr5, y_pred_SVC))\n",
    "\n",
    "# Printing the Overall Accuracy of the model\n",
    "SVC_rbf_recall_Score_yr5=metrics.recall_score(y_test_yr5, y_pred_SVC)\n",
    "print('Recall Score of the model on Testing Sample Data:', round(SVC_lin_recall_Score_yr5,2))\n"
   ]
  },
  {
   "cell_type": "code",
   "execution_count": 69,
   "id": "e259849f",
   "metadata": {},
   "outputs": [
    {
     "name": "stdout",
     "output_type": "stream",
     "text": [
      "Best SVC Parameters {'C': 10, 'kernel': 'rbf'}\n",
      "              precision    recall  f1-score   support\n",
      "\n",
      "           0       0.95      0.73      0.82      1092\n",
      "           1       0.15      0.58      0.24        90\n",
      "\n",
      "    accuracy                           0.71      1182\n",
      "   macro avg       0.55      0.65      0.53      1182\n",
      "weighted avg       0.89      0.71      0.78      1182\n",
      "\n",
      "[[793 299]\n",
      " [ 38  52]]\n",
      "Recall Score of the model on Testing Sample Data: 0.58\n"
     ]
    }
   ],
   "source": [
    "# Creating the model on oversampled Training Data\n",
    "SVC_Grid.fit(X_train_yr5_rand,y_train_yr5_rand)\n",
    "print(\"Best SVC Parameters\",SVC_Grid.best_params_)\n",
    "SVC_clf = SVC_Grid.best_estimator_\n",
    "y_pred_SVC=SVC_clf.predict(X_test_yr5_rand)\n",
    "\n",
    "# Measuring accuracy on original Testing Data\n",
    "print(metrics.classification_report(y_test_yr5, y_pred_SVC))\n",
    "print(metrics.confusion_matrix(y_test_yr5, y_pred_SVC))\n",
    "\n",
    "# Printing the Overall Accuracy of the model\n",
    "SVC_rbf_recall_Score_yr5_rand=metrics.recall_score(y_test_yr5, y_pred_SVC)\n",
    "print('Recall Score of the model on Testing Sample Data:', round(SVC_rbf_recall_Score_yr5_rand,2))\n"
   ]
  },
  {
   "cell_type": "markdown",
   "id": "3cc8401d",
   "metadata": {},
   "source": [
    "#### Random Forest"
   ]
  },
  {
   "cell_type": "code",
   "execution_count": 70,
   "id": "91f08607",
   "metadata": {},
   "outputs": [],
   "source": [
    "rf_param_grid = {'max_depth': [60], 'n_estimators': [1000] # best Parameters\n",
    "                #'n_estimators':[50,100,500,1000], 'max_depth':[40,60,80,100] # these were tried out and commented for fast run\n",
    "                } \n",
    "\n",
    "rf = RandomForestClassifier(n_jobs=-1, criterion='gini')\n",
    "RF_Grid = GridSearchCV(estimator=rf, param_grid = rf_param_grid, cv =cv )"
   ]
  },
  {
   "cell_type": "code",
   "execution_count": 71,
   "id": "f015b0bc",
   "metadata": {},
   "outputs": [
    {
     "name": "stdout",
     "output_type": "stream",
     "text": [
      "Best RF Parameters {'max_depth': 60, 'n_estimators': 1000}\n",
      "              precision    recall  f1-score   support\n",
      "\n",
      "           0       0.96      0.99      0.97      1092\n",
      "           1       0.75      0.49      0.59        90\n",
      "\n",
      "    accuracy                           0.95      1182\n",
      "   macro avg       0.85      0.74      0.78      1182\n",
      "weighted avg       0.94      0.95      0.94      1182\n",
      "\n",
      "[[1077   15]\n",
      " [  46   44]]\n",
      "Recall Score of the model on Testing Sample Data: 0.49\n"
     ]
    }
   ],
   "source": [
    "# Creating the model on original Training Data\n",
    "RF_Grid.fit(X_train_yr5,y_train_yr5)\n",
    "print(\"Best RF Parameters\",RF_Grid.best_params_)\n",
    "RF_clf = RF_Grid.best_estimator_\n",
    "y_pred_RF=RF_clf.predict(X_test_yr5)\n",
    "\n",
    "# Measuring accuracy on original Testing Data\n",
    "print(metrics.classification_report(y_test_yr5, y_pred_RF))\n",
    "print(metrics.confusion_matrix(y_test_yr5, y_pred_RF))\n",
    "\n",
    "# Printing the Overall Accuracy of the model\n",
    "RF_recall_Score_yr5=metrics.recall_score(y_test_yr5, y_pred_RF)\n",
    "print('Recall Score of the model on Testing Sample Data:', round(RF_recall_Score_yr5,2))"
   ]
  },
  {
   "cell_type": "code",
   "execution_count": 72,
   "id": "e4ec22b2",
   "metadata": {},
   "outputs": [
    {
     "data": {
      "image/png": "[encoded data removed]",
      "text/plain": [
       "<Figure size 432x288 with 1 Axes>"
      ]
     },
     "metadata": {
      "needs_background": "light"
     },
     "output_type": "display_data"
    }
   ],
   "source": [
    "features = pd.Series(RF_clf.feature_importances_, index=X_yr5.columns)\n",
    "features.nlargest(20).plot(kind='barh')\n",
    "plt.title(\"Random forest feature importance chart - Original dataset\")\n",
    "plt.show()"
   ]
  },
  {
   "cell_type": "code",
   "execution_count": 73,
   "id": "9bc4804d",
   "metadata": {},
   "outputs": [],
   "source": [
    "# RF on over sampled data\n",
    "\n",
    "RF_rand =  RandomForestClassifier(n_jobs=-1, criterion='gini')\n",
    "RF_rand_Grid = GridSearchCV(estimator=RF_rand, param_grid = rf_param_grid, cv =cv )"
   ]
  },
  {
   "cell_type": "code",
   "execution_count": 74,
   "id": "a56878a1",
   "metadata": {},
   "outputs": [
    {
     "name": "stdout",
     "output_type": "stream",
     "text": [
      "Best RF_rand Parameters {'max_depth': 60, 'n_estimators': 1000}\n",
      "              precision    recall  f1-score   support\n",
      "\n",
      "           0       0.96      0.99      0.97      1092\n",
      "           1       0.72      0.46      0.56        90\n",
      "\n",
      "    accuracy                           0.95      1182\n",
      "   macro avg       0.84      0.72      0.76      1182\n",
      "weighted avg       0.94      0.95      0.94      1182\n",
      "\n",
      "[[1076   16]\n",
      " [  49   41]]\n",
      "Recall Score of the model on Testing Sample Data: 0.46\n"
     ]
    }
   ],
   "source": [
    "# Creating the model on oversampled training data\n",
    "RF_rand_Grid.fit(X_train_yr5_rand,y_train_yr5_rand)\n",
    "print(\"Best RF_rand Parameters\",RF_rand_Grid.best_params_)\n",
    "RF_rand_clf = RF_rand_Grid.best_estimator_\n",
    "y_pred_RF_rand=RF_rand_clf.predict(X_test_yr5_rand)\n",
    "\n",
    "# Measuring accuracy on oversampled Testing Data\n",
    "print(metrics.classification_report(y_test_yr5, y_pred_RF_rand))\n",
    "print(metrics.confusion_matrix(y_test_yr5, y_pred_RF_rand))\n",
    "\n",
    "# Printing the Overall Accuracy of the model\n",
    "RF_rand_recall_Score_yr5=metrics.recall_score(y_test_yr5, y_pred_RF_rand)\n",
    "print('Recall Score of the model on Testing Sample Data:', round(RF_rand_recall_Score_yr5,2))"
   ]
  },
  {
   "cell_type": "code",
   "execution_count": 75,
   "id": "72606cbb",
   "metadata": {},
   "outputs": [
    {
     "data": {
      "image/png": "[encoded data removed]",
      "text/plain": [
       "<Figure size 432x288 with 1 Axes>"
      ]
     },
     "metadata": {
      "needs_background": "light"
     },
     "output_type": "display_data"
    }
   ],
   "source": [
    "features = pd.Series(RF_rand_clf.feature_importances_, index=X_yr5.columns)\n",
    "features.nlargest(20).plot(kind='barh')\n",
    "plt.title(\"Random forest feature importance chart - oversampled dataset\")\n",
    "plt.show()"
   ]
  },
  {
   "cell_type": "markdown",
   "id": "0e4fd452",
   "metadata": {},
   "source": [
    "#### XGBoost"
   ]
  },
  {
   "cell_type": "code",
   "execution_count": 76,
   "id": "05b6ac5f",
   "metadata": {},
   "outputs": [],
   "source": [
    "xgb_param_grid = {#{'booster': 'gbtree', 'learning_rate': 0.1, 'max_depth': 10, 'n_estimators': 100, 'objective': 'binary:logistic'} # best Parameters\n",
    "                'n_estimators':[100], 'max_depth':[10],'objective':['binary:logistic'], 'booster':['gbtree'],\n",
    "                'learning_rate':[0.1] \n",
    "                } \n",
    "# these were tried out and commented for fast run\n",
    "#'n_estimators':[50,75,100,200], 'max_depth':[5,10,20],'objective':['binary:logistic'], 'booster':['gbtree'],'learning_rate':[0.001,0.01,0.1,0.05]\n",
    "xgb = XGBClassifier()\n",
    "XGB_Grid = GridSearchCV(estimator=xgb, param_grid = xgb_param_grid, cv =cv )"
   ]
  },
  {
   "cell_type": "code",
   "execution_count": 77,
   "id": "a06b9f1f",
   "metadata": {},
   "outputs": [
    {
     "name": "stdout",
     "output_type": "stream",
     "text": [
      "Best XGB Parameters {'booster': 'gbtree', 'learning_rate': 0.1, 'max_depth': 10, 'n_estimators': 100, 'objective': 'binary:logistic'}\n",
      "              precision    recall  f1-score   support\n",
      "\n",
      "           0       0.97      0.99      0.98      1092\n",
      "           1       0.85      0.61      0.71        90\n",
      "\n",
      "    accuracy                           0.96      1182\n",
      "   macro avg       0.91      0.80      0.84      1182\n",
      "weighted avg       0.96      0.96      0.96      1182\n",
      "\n",
      "[[1082   10]\n",
      " [  35   55]]\n",
      "Recall Score of the model on Testing Sample Data: 0.61\n"
     ]
    }
   ],
   "source": [
    "# Creating the model on original Training Data\n",
    "XGB_Grid.fit(X_train_yr5,y_train_yr5)\n",
    "print(\"Best XGB Parameters\",XGB_Grid.best_params_)\n",
    "XGB_clf = XGB_Grid.best_estimator_\n",
    "y_pred_XGB=XGB_clf.predict(X_test_yr5)\n",
    "\n",
    "# Measuring accuracy on original Testing Data\n",
    "print(metrics.classification_report(y_test_yr5, y_pred_XGB))\n",
    "print(metrics.confusion_matrix(y_test_yr5, y_pred_XGB))\n",
    "\n",
    "# Printing the Overall Accuracy of the model\n",
    "XGB_recall_Score_yr5=metrics.recall_score(y_test_yr5, y_pred_XGB)\n",
    "print('Recall Score of the model on Testing Sample Data:', round(XGB_recall_Score_yr5,2))"
   ]
  },
  {
   "cell_type": "code",
   "execution_count": 78,
   "id": "3276106e",
   "metadata": {},
   "outputs": [],
   "source": [
    "# XGB on sampled data\n",
    "\n",
    "xgb_rand = XGBClassifier()\n",
    "XGB_rand_Grid = GridSearchCV(estimator=xgb_rand, param_grid = xgb_param_grid, cv =cv )"
   ]
  },
  {
   "cell_type": "code",
   "execution_count": 79,
   "id": "a1606ceb",
   "metadata": {},
   "outputs": [
    {
     "name": "stdout",
     "output_type": "stream",
     "text": [
      "Best XGB_rand Parameters {'booster': 'gbtree', 'learning_rate': 0.1, 'max_depth': 10, 'n_estimators': 100, 'objective': 'binary:logistic'}\n",
      "              precision    recall  f1-score   support\n",
      "\n",
      "           0       0.97      0.98      0.98      1092\n",
      "           1       0.73      0.63      0.68        90\n",
      "\n",
      "    accuracy                           0.95      1182\n",
      "   macro avg       0.85      0.81      0.83      1182\n",
      "weighted avg       0.95      0.95      0.95      1182\n",
      "\n",
      "[[1071   21]\n",
      " [  33   57]]\n",
      "Recall Score of the model on Testing Sample Data: 0.63\n"
     ]
    }
   ],
   "source": [
    "# Creating the model on oversampled training data\n",
    "XGB_rand_Grid.fit(X_train_yr5_rand,y_train_yr5_rand)\n",
    "print(\"Best XGB_rand Parameters\",XGB_rand_Grid.best_params_)\n",
    "XGB_rand_clf = XGB_rand_Grid.best_estimator_\n",
    "y_pred_XGB_rand=XGB_rand_clf.predict(X_test_yr5_rand)\n",
    "\n",
    "# Measuring accuracy on oversampled Testing Data\n",
    "print(metrics.classification_report(y_test_yr5, y_pred_XGB_rand))\n",
    "print(metrics.confusion_matrix(y_test_yr5, y_pred_XGB_rand))\n",
    "\n",
    "# Printing the Overall Accuracy of the model\n",
    "XGB_rand_recall_Score_yr5=metrics.recall_score(y_test_yr5, y_pred_XGB_rand)\n",
    "print('Recall Score of the model on Testing Sample Data:', round(XGB_rand_recall_Score_yr5,2))"
   ]
  },
  {
   "cell_type": "markdown",
   "id": "9265dfde",
   "metadata": {},
   "source": [
    "#### Evaluation"
   ]
  },
  {
   "cell_type": "code",
   "execution_count": 80,
   "id": "6e2a8598",
   "metadata": {},
   "outputs": [],
   "source": [
    "model_name_yr5= []\n",
    "model_recall_scores_yr5 = []\n",
    "model_recall_scores_yr5_rand = []\n",
    "\n",
    "model_name_yr5.append('LogisticRegression')\n",
    "model_recall_scores_yr5.append(LR_recall_Score_yr5)\n",
    "model_recall_scores_yr5_rand.append(LR_recall_Score_yr5_rand)\n",
    "\n",
    "model_name_yr5.append('SVM(lin)')\n",
    "model_recall_scores_yr5.append(SVC_lin_recall_Score_yr5)\n",
    "model_recall_scores_yr5_rand.append(SVC_lin_recall_Score_yr5_rand)\n",
    "\n",
    "model_name_yr5.append('SVM(RBF)')\n",
    "model_recall_scores_yr5.append(SVC_rbf_recall_Score_yr5)\n",
    "model_recall_scores_yr5_rand.append(SVC_rbf_recall_Score_yr5_rand)\n",
    "\n",
    "model_name_yr5.append('RandomForest')\n",
    "model_recall_scores_yr5.append(RF_recall_Score_yr5)\n",
    "model_recall_scores_yr5_rand.append(RF_rand_recall_Score_yr5)\n",
    "\n",
    "model_name_yr5.append('XGBoost')\n",
    "model_recall_scores_yr5.append(XGB_recall_Score_yr5)\n",
    "model_recall_scores_yr5_rand.append(XGB_rand_recall_Score_yr5)\n",
    "\n",
    "\n",
    "models_data_yr5 = pd.DataFrame({'Name':model_name_yr5,'Values':model_recall_scores_yr5} )\n",
    "models_data_yr5_rand = pd.DataFrame({'Name':model_name_yr5,'Values':model_recall_scores_yr5_rand} )"
   ]
  },
  {
   "cell_type": "code",
   "execution_count": 81,
   "id": "108b408a",
   "metadata": {},
   "outputs": [
    {
     "data": {
      "image/png": "[encoded data removed]",
      "text/plain": [
       "<Figure size 1080x360 with 1 Axes>"
      ]
     },
     "metadata": {
      "needs_background": "light"
     },
     "output_type": "display_data"
    }
   ],
   "source": [
    "fig, axe = plt.subplots(figsize=(15,5))\n",
    "plt.scatter(models_data_yr5['Name'],models_data_yr5['Values'],label='On Original Data')\n",
    "plt.scatter(models_data_yr5_rand['Name'],models_data_yr5_rand['Values'],label='On Oversampled Data')\n",
    "plt.legend(loc=\"lower right\")\n",
    "plt.ylabel('Recall')\n",
    "plt.suptitle(\"Algorithms' Performance Comparision (Experiment Setting 2)\")\n",
    "plt.show()"
   ]
  },
  {
   "cell_type": "markdown",
   "id": "15f4c35d",
   "metadata": {},
   "source": [
    "## Experiment 3\n",
    "\n",
    "> Analysis & modelling on dataset from 2007 till 2011. Based on the whole 5 year dataset, the model will try to predict the bankruptcy of the firms in 2012.\n",
    "\n",
    "Like previous sections the following topics will be covered.\n",
    "\n",
    "1. **Train & Test Splitting**: To avoid any data leakage.\n",
    "2. **Missing value analysis**: Using the strategy 'mean', the missing values will be filled.\n",
    "3. **Sampling**: Random oversampling Or SMOTE. \n",
    "4. **Rescaling**: Using min-max scaler\n",
    "5. **Modelling & evaluation**"
   ]
  },
  {
   "cell_type": "code",
   "execution_count": 82,
   "id": "7a236146",
   "metadata": {},
   "outputs": [],
   "source": [
    "# concatenating all the yearly data into one dataframe\n",
    "frames = [data_yr1[cols], data_yr2[cols], data_yr3[cols], data_yr4[cols], data_yr5[cols]]\n",
    "data = pd.concat(frames)"
   ]
  },
  {
   "cell_type": "code",
   "execution_count": 83,
   "id": "bd1ce6f9",
   "metadata": {},
   "outputs": [
    {
     "data": {
      "image/png": "[encoded data removed]",
      "text/plain": [
       "<Figure size 432x288 with 1 Axes>"
      ]
     },
     "metadata": {},
     "output_type": "display_data"
    }
   ],
   "source": [
    "# Overall class distribution\n",
    "data['class'].value_counts().plot.pie(autopct=autopct)\n",
    "plt.show()"
   ]
  },
  {
   "cell_type": "markdown",
   "id": "0b22cc61",
   "metadata": {},
   "source": [
    "We have 41314 negative class observations and 2091 positive class observations. The following steps will be performed in order to prepare the dataset for model training."
   ]
  },
  {
   "cell_type": "markdown",
   "id": "7de798cd",
   "metadata": {},
   "source": [
    "### 3.1 Train & Test Splitting"
   ]
  },
  {
   "cell_type": "code",
   "execution_count": 84,
   "id": "dfdc8de1",
   "metadata": {},
   "outputs": [
    {
     "name": "stdout",
     "output_type": "stream",
     "text": [
      "Observations in training data:  34724 \n",
      " class\n",
      "0        33074\n",
      "1         1650\n",
      "dtype: int64\n",
      "Observations in testing data:  8681 \n",
      " class\n",
      "0        8240\n",
      "1         441\n",
      "dtype: int64\n"
     ]
    }
   ],
   "source": [
    "# Modeling for 1 year prediction horizon\n",
    "y = data['class']\n",
    "X = data.drop(columns= ['class']).copy()\n",
    "\n",
    "X_train, X_test, y_train, y_test = train_test_split(X,y, train_size = 0.8, random_state=42 )\n",
    "\n",
    "print('Observations in training data: ',  len(y_train),'\\n', pd.DataFrame(y_train).value_counts() )\n",
    "print('Observations in testing data: ',  len(y_test), '\\n', pd.DataFrame(y_test).value_counts())"
   ]
  },
  {
   "cell_type": "markdown",
   "id": "a9bb4628",
   "metadata": {},
   "source": [
    "### 3.2 Missing Value Analysis"
   ]
  },
  {
   "cell_type": "code",
   "execution_count": 85,
   "id": "2097e8b7",
   "metadata": {},
   "outputs": [
    {
     "data": {
      "image/png": "[encoded data removed]",
      "text/plain": [
       "<Figure size 864x576 with 1 Axes>"
      ]
     },
     "metadata": {
      "needs_background": "light"
     },
     "output_type": "display_data"
    }
   ],
   "source": [
    "plt.figure(figsize=(12, 8))\n",
    "plt.bar(cols, data.isna().sum())\n",
    "plt.xticks(rotation=90)\n",
    "plt.title(\"Null Value Count By Feature\")\n",
    "plt.show()"
   ]
  },
  {
   "cell_type": "code",
   "execution_count": 86,
   "id": "8bae7cc5",
   "metadata": {},
   "outputs": [
    {
     "data": {
      "text/html": [
       "<div>\n",
       "<style scoped>\n",
       "    .dataframe tbody tr th:only-of-type {\n",
       "        vertical-align: middle;\n",
       "    }\n",
       "\n",
       "    .dataframe tbody tr th {\n",
       "        vertical-align: top;\n",
       "    }\n",
       "\n",
       "    .dataframe thead th {\n",
       "        text-align: right;\n",
       "    }\n",
       "</style>\n",
       "<table border=\"1\" class=\"dataframe\">\n",
       "  <thead>\n",
       "    <tr style=\"text-align: right;\">\n",
       "      <th></th>\n",
       "      <th>total</th>\n",
       "      <th>NaN_Percent</th>\n",
       "    </tr>\n",
       "  </thead>\n",
       "  <tbody>\n",
       "    <tr>\n",
       "      <th>Attr37</th>\n",
       "      <td>18984</td>\n",
       "      <td>43.74</td>\n",
       "    </tr>\n",
       "    <tr>\n",
       "      <th>Attr21</th>\n",
       "      <td>5854</td>\n",
       "      <td>13.49</td>\n",
       "    </tr>\n",
       "    <tr>\n",
       "      <th>Attr27</th>\n",
       "      <td>2764</td>\n",
       "      <td>6.37</td>\n",
       "    </tr>\n",
       "    <tr>\n",
       "      <th>Attr60</th>\n",
       "      <td>2152</td>\n",
       "      <td>4.96</td>\n",
       "    </tr>\n",
       "    <tr>\n",
       "      <th>Attr45</th>\n",
       "      <td>2147</td>\n",
       "      <td>4.95</td>\n",
       "    </tr>\n",
       "    <tr>\n",
       "      <th>Attr24</th>\n",
       "      <td>922</td>\n",
       "      <td>2.12</td>\n",
       "    </tr>\n",
       "  </tbody>\n",
       "</table>\n",
       "</div>"
      ],
      "text/plain": [
       "        total  NaN_Percent\n",
       "Attr37  18984        43.74\n",
       "Attr21   5854        13.49\n",
       "Attr27   2764         6.37\n",
       "Attr60   2152         4.96\n",
       "Attr45   2147         4.95\n",
       "Attr24    922         2.12"
      ]
     },
     "execution_count": 86,
     "metadata": {},
     "output_type": "execute_result"
    }
   ],
   "source": [
    "data_nan = pd.DataFrame(data.isnull().sum()).rename(columns={0:'total'})\n",
    "data_nan['NaN_Percent'] = round(100*(data_nan['total']/data.shape[0]),2)\n",
    "data_nan.sort_values('NaN_Percent',ascending= False ).head(6)"
   ]
  },
  {
   "cell_type": "markdown",
   "id": "a5a813ac",
   "metadata": {},
   "source": [
    "- As we can see, Attribute 37 contains ~ 44% of total data as missing values. Although the modeling on just the data for year 1 (data_yr1) has revealed that importance of this feature to be relevant, we must drop this feature. Imputation on this feature does not make much sense."
   ]
  },
  {
   "cell_type": "code",
   "execution_count": 87,
   "id": "94ec36b9",
   "metadata": {},
   "outputs": [
    {
     "data": {
      "text/html": [
       "<div>\n",
       "<style scoped>\n",
       "    .dataframe tbody tr th:only-of-type {\n",
       "        vertical-align: middle;\n",
       "    }\n",
       "\n",
       "    .dataframe tbody tr th {\n",
       "        vertical-align: top;\n",
       "    }\n",
       "\n",
       "    .dataframe thead th {\n",
       "        text-align: right;\n",
       "    }\n",
       "</style>\n",
       "<table border=\"1\" class=\"dataframe\">\n",
       "  <thead>\n",
       "    <tr style=\"text-align: right;\">\n",
       "      <th></th>\n",
       "      <th>Attr1</th>\n",
       "      <th>Attr2</th>\n",
       "      <th>Attr3</th>\n",
       "      <th>Attr4</th>\n",
       "      <th>Attr5</th>\n",
       "      <th>Attr6</th>\n",
       "      <th>Attr7</th>\n",
       "      <th>Attr8</th>\n",
       "      <th>Attr9</th>\n",
       "      <th>Attr10</th>\n",
       "      <th>...</th>\n",
       "      <th>Attr56</th>\n",
       "      <th>Attr57</th>\n",
       "      <th>Attr58</th>\n",
       "      <th>Attr59</th>\n",
       "      <th>Attr60</th>\n",
       "      <th>Attr61</th>\n",
       "      <th>Attr62</th>\n",
       "      <th>Attr63</th>\n",
       "      <th>Attr64</th>\n",
       "      <th>class</th>\n",
       "    </tr>\n",
       "  </thead>\n",
       "  <tbody>\n",
       "    <tr>\n",
       "      <th>0</th>\n",
       "      <td>0.200550</td>\n",
       "      <td>0.37951</td>\n",
       "      <td>0.39641</td>\n",
       "      <td>2.0472</td>\n",
       "      <td>32.3510</td>\n",
       "      <td>0.38825</td>\n",
       "      <td>0.249760</td>\n",
       "      <td>1.33050</td>\n",
       "      <td>1.1389</td>\n",
       "      <td>0.50494</td>\n",
       "      <td>...</td>\n",
       "      <td>0.121960</td>\n",
       "      <td>0.39718</td>\n",
       "      <td>0.87804</td>\n",
       "      <td>0.001924</td>\n",
       "      <td>8.4160</td>\n",
       "      <td>5.1372</td>\n",
       "      <td>82.658</td>\n",
       "      <td>4.4158</td>\n",
       "      <td>7.4277</td>\n",
       "      <td>0</td>\n",
       "    </tr>\n",
       "    <tr>\n",
       "      <th>1</th>\n",
       "      <td>0.209120</td>\n",
       "      <td>0.49988</td>\n",
       "      <td>0.47225</td>\n",
       "      <td>1.9447</td>\n",
       "      <td>14.7860</td>\n",
       "      <td>0.00000</td>\n",
       "      <td>0.258340</td>\n",
       "      <td>0.99601</td>\n",
       "      <td>1.6996</td>\n",
       "      <td>0.49788</td>\n",
       "      <td>...</td>\n",
       "      <td>0.121300</td>\n",
       "      <td>0.42002</td>\n",
       "      <td>0.85300</td>\n",
       "      <td>0.000000</td>\n",
       "      <td>4.1486</td>\n",
       "      <td>3.2732</td>\n",
       "      <td>107.350</td>\n",
       "      <td>3.4000</td>\n",
       "      <td>60.9870</td>\n",
       "      <td>0</td>\n",
       "    </tr>\n",
       "    <tr>\n",
       "      <th>2</th>\n",
       "      <td>0.248660</td>\n",
       "      <td>0.69592</td>\n",
       "      <td>0.26713</td>\n",
       "      <td>1.5548</td>\n",
       "      <td>-1.1523</td>\n",
       "      <td>0.00000</td>\n",
       "      <td>0.309060</td>\n",
       "      <td>0.43695</td>\n",
       "      <td>1.3090</td>\n",
       "      <td>0.30408</td>\n",
       "      <td>...</td>\n",
       "      <td>0.241140</td>\n",
       "      <td>0.81774</td>\n",
       "      <td>0.76599</td>\n",
       "      <td>0.694840</td>\n",
       "      <td>4.9909</td>\n",
       "      <td>3.9510</td>\n",
       "      <td>134.270</td>\n",
       "      <td>2.7185</td>\n",
       "      <td>5.2078</td>\n",
       "      <td>0</td>\n",
       "    </tr>\n",
       "    <tr>\n",
       "      <th>3</th>\n",
       "      <td>0.081483</td>\n",
       "      <td>0.30734</td>\n",
       "      <td>0.45879</td>\n",
       "      <td>2.4928</td>\n",
       "      <td>51.9520</td>\n",
       "      <td>0.14988</td>\n",
       "      <td>0.092704</td>\n",
       "      <td>1.86610</td>\n",
       "      <td>1.0571</td>\n",
       "      <td>0.57353</td>\n",
       "      <td>...</td>\n",
       "      <td>0.054015</td>\n",
       "      <td>0.14207</td>\n",
       "      <td>0.94598</td>\n",
       "      <td>0.000000</td>\n",
       "      <td>4.5746</td>\n",
       "      <td>3.6147</td>\n",
       "      <td>86.435</td>\n",
       "      <td>4.2228</td>\n",
       "      <td>5.5497</td>\n",
       "      <td>0</td>\n",
       "    </tr>\n",
       "    <tr>\n",
       "      <th>4</th>\n",
       "      <td>0.187320</td>\n",
       "      <td>0.61323</td>\n",
       "      <td>0.22960</td>\n",
       "      <td>1.4063</td>\n",
       "      <td>-7.3128</td>\n",
       "      <td>0.18732</td>\n",
       "      <td>0.187320</td>\n",
       "      <td>0.63070</td>\n",
       "      <td>1.1559</td>\n",
       "      <td>0.38677</td>\n",
       "      <td>...</td>\n",
       "      <td>0.134850</td>\n",
       "      <td>0.48431</td>\n",
       "      <td>0.86515</td>\n",
       "      <td>0.124440</td>\n",
       "      <td>6.3985</td>\n",
       "      <td>4.3158</td>\n",
       "      <td>127.210</td>\n",
       "      <td>2.8692</td>\n",
       "      <td>7.8980</td>\n",
       "      <td>0</td>\n",
       "    </tr>\n",
       "  </tbody>\n",
       "</table>\n",
       "<p>5 rows × 64 columns</p>\n",
       "</div>"
      ],
      "text/plain": [
       "      Attr1    Attr2    Attr3   Attr4    Attr5    Attr6     Attr7    Attr8  \\\n",
       "0  0.200550  0.37951  0.39641  2.0472  32.3510  0.38825  0.249760  1.33050   \n",
       "1  0.209120  0.49988  0.47225  1.9447  14.7860  0.00000  0.258340  0.99601   \n",
       "2  0.248660  0.69592  0.26713  1.5548  -1.1523  0.00000  0.309060  0.43695   \n",
       "3  0.081483  0.30734  0.45879  2.4928  51.9520  0.14988  0.092704  1.86610   \n",
       "4  0.187320  0.61323  0.22960  1.4063  -7.3128  0.18732  0.187320  0.63070   \n",
       "\n",
       "    Attr9   Attr10  ...    Attr56   Attr57   Attr58    Attr59  Attr60  Attr61  \\\n",
       "0  1.1389  0.50494  ...  0.121960  0.39718  0.87804  0.001924  8.4160  5.1372   \n",
       "1  1.6996  0.49788  ...  0.121300  0.42002  0.85300  0.000000  4.1486  3.2732   \n",
       "2  1.3090  0.30408  ...  0.241140  0.81774  0.76599  0.694840  4.9909  3.9510   \n",
       "3  1.0571  0.57353  ...  0.054015  0.14207  0.94598  0.000000  4.5746  3.6147   \n",
       "4  1.1559  0.38677  ...  0.134850  0.48431  0.86515  0.124440  6.3985  4.3158   \n",
       "\n",
       "    Attr62  Attr63   Attr64  class  \n",
       "0   82.658  4.4158   7.4277      0  \n",
       "1  107.350  3.4000  60.9870      0  \n",
       "2  134.270  2.7185   5.2078      0  \n",
       "3   86.435  4.2228   5.5497      0  \n",
       "4  127.210  2.8692   7.8980      0  \n",
       "\n",
       "[5 rows x 64 columns]"
      ]
     },
     "execution_count": 87,
     "metadata": {},
     "output_type": "execute_result"
    }
   ],
   "source": [
    "data = data.drop(columns= ['Attr37'])\n",
    "data.head()"
   ]
  },
  {
   "cell_type": "markdown",
   "id": "e2d651cc",
   "metadata": {},
   "source": [
    "#### Imputation"
   ]
  },
  {
   "cell_type": "code",
   "execution_count": 88,
   "id": "2c66f4e8",
   "metadata": {},
   "outputs": [],
   "source": [
    "imputer = SimpleImputer(strategy = 'mean', missing_values=np.nan)\n",
    "#imputer = imputer.fit(train_X_yr1)\n",
    "X_train = imputer.fit_transform(X_train)\n",
    "X_test = imputer.transform(X_test)"
   ]
  },
  {
   "cell_type": "markdown",
   "id": "c7b572f0",
   "metadata": {},
   "source": [
    "### 3.3 Sampling\n",
    "\n",
    "- The dataset we have is a higly imbalanced - with postive class instances of 1650 compared with negative class instances of 33074. In the following cells, random oversampler will be used to balance the dataset. At the same time, the original imbalanced data set will be kept for training and the respective models will be compared based on their performacne on the test data."
   ]
  },
  {
   "cell_type": "code",
   "execution_count": 89,
   "id": "502685e3",
   "metadata": {},
   "outputs": [],
   "source": [
    "randomsampler = RandomOverSampler(sampling_strategy = 'minority') \n",
    "# majority strategy will remove the class 0 samples whihc results in loss of information.\n",
    "X_train_rand, y_train_rand = randomsampler.fit_resample(X_train, y_train)"
   ]
  },
  {
   "cell_type": "code",
   "execution_count": 90,
   "id": "ef77067c",
   "metadata": {},
   "outputs": [
    {
     "data": {
      "image/png": "[encoded data removed]",
      "text/plain": [
       "<Figure size 720x360 with 2 Axes>"
      ]
     },
     "metadata": {},
     "output_type": "display_data"
    }
   ],
   "source": [
    "fig, axs = plt.subplots(ncols=2, figsize=(10, 5))\n",
    "y_train.value_counts().plot.pie(autopct=autopct, ax=axs[0])\n",
    "axs[0].set_title(\"Before-sampling\")\n",
    "\n",
    "y_train_rand.value_counts().plot.pie(autopct=autopct, ax=axs[1])\n",
    "axs[1].set_title(\"After-sampling\")\n",
    "#plt.title(\"Class distribution before & after sampling\")\n",
    "plt.show()"
   ]
  },
  {
   "cell_type": "markdown",
   "id": "df1d60d1",
   "metadata": {},
   "source": [
    "### 3.4 Feature Scaling (Min-Max Scaler)"
   ]
  },
  {
   "cell_type": "code",
   "execution_count": 91,
   "id": "14518475",
   "metadata": {},
   "outputs": [],
   "source": [
    "FeatureScaler=MinMaxScaler()\n",
    "\n",
    "# Storing the fit object for later reference\n",
    "FeatureScalerFit=FeatureScaler.fit(X_train)\n",
    "FeatureScalerFit_rand=FeatureScaler.fit(X_train_rand)\n",
    "\n",
    "# Generating the normalized values of Features\n",
    "# Dataframe with Random oversampler objects\n",
    "X_train_rand = FeatureScalerFit_rand.transform(X_train_rand)\n",
    "X_test_rand=FeatureScalerFit_rand.transform(X_test)\n",
    "\n",
    "# Dataframe Without sampling\n",
    "X_train = FeatureScalerFit.transform(X_train)\n",
    "X_test=FeatureScalerFit.transform(X_test)\n",
    "\n"
   ]
  },
  {
   "cell_type": "markdown",
   "id": "4b55cad2",
   "metadata": {},
   "source": [
    "### 3.5 Modelling & Evaluation (On 5 Yr data)\n",
    "\n",
    "> **Modeling**\n",
    "\n",
    "- logistic regression\n",
    "- SVM (linear & Radial)\n",
    "- Random Forest\n",
    "- Gradient Boosting\n",
    "- Neural Networks\n",
    "\n",
    "> **Evaluation**\n",
    "\n",
    "- Accuracy\n",
    "- Precision\n",
    "- Sensitivity (Important)"
   ]
  },
  {
   "cell_type": "markdown",
   "id": "2ca0733e",
   "metadata": {},
   "source": [
    "#### LR"
   ]
  },
  {
   "cell_type": "code",
   "execution_count": 92,
   "id": "1f5dd037",
   "metadata": {},
   "outputs": [],
   "source": [
    "# Logistic Regression\n",
    "\n",
    "# choose different values for solver 'newton-cg', 'lbfgs', 'liblinear', 'sag', 'saga'\n",
    "lr_param_grid = {#'penalty':['l2','l1'],'solver':['newton-cg', 'lbfgs']\n",
    "                 'penalty': ['l2'], 'solver': ['lbfgs']} # best parameters\n",
    "\n",
    "lr = LogisticRegression()\n",
    "LR_Grid = GridSearchCV(estimator=lr, param_grid = lr_param_grid, cv =cv )"
   ]
  },
  {
   "cell_type": "code",
   "execution_count": 93,
   "id": "1f1af782",
   "metadata": {},
   "outputs": [
    {
     "name": "stdout",
     "output_type": "stream",
     "text": [
      "Best LR hyperparameters {'penalty': 'l2', 'solver': 'lbfgs'}\n",
      "              precision    recall  f1-score   support\n",
      "\n",
      "           0       0.95      1.00      0.97      8240\n",
      "           1       0.50      0.00      0.00       441\n",
      "\n",
      "    accuracy                           0.95      8681\n",
      "   macro avg       0.72      0.50      0.49      8681\n",
      "weighted avg       0.93      0.95      0.92      8681\n",
      "\n",
      "[[8239    1]\n",
      " [ 440    1]]\n",
      "Recall Score of the model on Testing Sample Data: 0.0\n"
     ]
    }
   ],
   "source": [
    "# Creating the model on oversampled and original training data\n",
    "LR_Grid.fit(X_train,y_train)\n",
    "print(\"Best LR hyperparameters\",LR_Grid.best_params_)\n",
    "lr_clf = LR_Grid.best_estimator_\n",
    "y_pred_lr=lr_clf.predict(X_test)\n",
    "\n",
    "# Measuring accuracy on Testing Data\n",
    "print(metrics.classification_report(y_test, y_pred_lr))\n",
    "print(metrics.confusion_matrix(y_test, y_pred_lr))\n",
    "\n",
    "# Printing the Overall Accuracy of the model\n",
    "LR_recall_Score=metrics.recall_score(y_test, y_pred_lr)\n",
    "print('Recall Score of the model on Testing Sample Data:', round(LR_recall_Score,2))\n"
   ]
  },
  {
   "cell_type": "code",
   "execution_count": 94,
   "id": "aed5a4de",
   "metadata": {},
   "outputs": [],
   "source": [
    "# Logistic Regression\n",
    "\n",
    "# choose different values for solver 'newton-cg', 'lbfgs', 'liblinear', 'sag', 'saga'\n",
    "lr_param_grid = {#'penalty':['l2','l1'],'solver':['newton-cg', 'lbfgs']\n",
    "                 'penalty': ['l2'], 'solver': ['lbfgs']} # best parameters\n",
    "\n",
    "lr_rand = LogisticRegression()\n",
    "LR_rand_Grid = GridSearchCV(estimator=lr_rand, param_grid = lr_param_grid, cv =cv )"
   ]
  },
  {
   "cell_type": "code",
   "execution_count": 95,
   "id": "32ed1f61",
   "metadata": {},
   "outputs": [
    {
     "name": "stdout",
     "output_type": "stream",
     "text": [
      "Best LR_rand Parameters {'penalty': 'l2', 'solver': 'lbfgs'}\n",
      "              precision    recall  f1-score   support\n",
      "\n",
      "           0       0.96      0.58      0.72      8240\n",
      "           1       0.07      0.56      0.12       441\n",
      "\n",
      "    accuracy                           0.58      8681\n",
      "   macro avg       0.51      0.57      0.42      8681\n",
      "weighted avg       0.92      0.58      0.69      8681\n",
      "\n",
      "[[4762 3478]\n",
      " [ 196  245]]\n",
      "Recall Score of the model on Testing Sample Data: 0.56\n"
     ]
    }
   ],
   "source": [
    "# Creating the model on oversampled and original training data\n",
    "LR_rand_Grid.fit(X_train_rand,y_train_rand)\n",
    "print(\"Best LR_rand Parameters\",LR_rand_Grid.best_params_)\n",
    "LR_rand_clf = LR_rand_Grid.best_estimator_\n",
    "y_pred_LR_rand=LR_rand_clf.predict(X_test_rand)\n",
    "\n",
    "# Measuring accuracy on Testing Data\n",
    "print(metrics.classification_report(y_test, y_pred_LR_rand))\n",
    "print(metrics.confusion_matrix(y_test, y_pred_LR_rand))\n",
    "\n",
    "# Printing the Overall Accuracy of the model\n",
    "LR_rand_recall_Score=metrics.recall_score(y_test, y_pred_LR_rand)\n",
    "print('Recall Score of the model on Testing Sample Data:', round(LR_rand_recall_Score,2))\n"
   ]
  },
  {
   "cell_type": "markdown",
   "id": "bd403661",
   "metadata": {},
   "source": [
    "#### SVM (Linear)"
   ]
  },
  {
   "cell_type": "code",
   "execution_count": 96,
   "id": "be2838dd",
   "metadata": {},
   "outputs": [],
   "source": [
    "# Support Vector Machine\n",
    "\n",
    "# choose different kernel{‘linear’, ‘poly’, ‘rbf’, ‘sigmoid’, ‘precomputed’}\n",
    "svc_param_grid = {'kernel':['linear'], 'C':[1,10] } \n",
    "\n",
    "svc =  SVC(gamma='auto')\n",
    "SVC_Grid = GridSearchCV(estimator=svc, param_grid = svc_param_grid, cv =cv )"
   ]
  },
  {
   "cell_type": "code",
   "execution_count": 97,
   "id": "a14277c2",
   "metadata": {},
   "outputs": [
    {
     "name": "stdout",
     "output_type": "stream",
     "text": [
      "Best SVC linear hyperparameters {'C': 1, 'kernel': 'linear'}\n",
      "              precision    recall  f1-score   support\n",
      "\n",
      "           0       0.95      1.00      0.97      8240\n",
      "           1       0.00      0.00      0.00       441\n",
      "\n",
      "    accuracy                           0.95      8681\n",
      "   macro avg       0.47      0.50      0.49      8681\n",
      "weighted avg       0.90      0.95      0.92      8681\n",
      "\n",
      "[[8240    0]\n",
      " [ 441    0]]\n",
      "Recall Score of the model on Testing Sample Data: 0.0\n"
     ]
    }
   ],
   "source": [
    "# Creating the model on original Training Data\n",
    "SVC_Grid.fit(X_train,y_train)\n",
    "print(\"Best SVC linear hyperparameters\",SVC_Grid.best_params_)\n",
    "SVC_clf = SVC_Grid.best_estimator_\n",
    "y_pred_SVC=SVC_clf.predict(X_test)\n",
    "\n",
    "# Measuring accuracy on original Testing Data\n",
    "print(metrics.classification_report(y_test, y_pred_SVC))\n",
    "print(metrics.confusion_matrix(y_test, y_pred_SVC))\n",
    "\n",
    "# Printing the Overall Accuracy of the model\n",
    "SVC_lin_recall_Score=metrics.recall_score(y_test, y_pred_SVC)\n",
    "print('Recall Score of the model on Testing Sample Data:', round(SVC_lin_recall_Score,2))"
   ]
  },
  {
   "cell_type": "code",
   "execution_count": 98,
   "id": "ace43822",
   "metadata": {},
   "outputs": [],
   "source": [
    "# SVC on over sampled data\n",
    "svc_rand =  SVC(gamma='auto')\n",
    "SVC_rand_Grid = GridSearchCV(estimator=svc_rand, param_grid = svc_param_grid, cv =cv )"
   ]
  },
  {
   "cell_type": "markdown",
   "id": "f7225c83",
   "metadata": {},
   "source": [
    "> **Note** : The below cell takes forever to run because SVM's performace is really bad when run on large datasets. Hence it was marked down so that the notebook finishes faster for evaluation. A dummy recall score is assigned for the notebook to finish successfully."
   ]
  },
  {
   "cell_type": "raw",
   "id": "d63efd40",
   "metadata": {},
   "source": [
    "# Creating the model on oversampled training data\n",
    "SVC_rand_Grid.fit(X_train_rand,y_train_rand)\n",
    "print(\"Best SVC linear hyperparameters\",SVC_rand_Grid.best_params_)\n",
    "SVC_rand_clf = SVC_rand_Grid.best_estimator_\n",
    "y_pred_SVC_rand=SVC_rand_clf.predict(X_test_rand)\n",
    "\n",
    "# Measuring accuracy on oversampled Testing Data\n",
    "print(metrics.classification_report(y_test, y_pred_SVC_rand))\n",
    "print(metrics.confusion_matrix(y_test, y_pred_SVC_rand))\n",
    "\n",
    "# Printing the Overall Accuracy of the model\n",
    "SVC_lin_rand_recall_Score=metrics.recall_score(y_test, y_pred_SVC_rand)\n",
    "print('Recall Score of the model on Testing Sample Data:', round(SVC_lin_rand_recall_Score,2))"
   ]
  },
  {
   "cell_type": "code",
   "execution_count": 99,
   "id": "1fb1a8ea",
   "metadata": {},
   "outputs": [],
   "source": [
    "SVC_lin_rand_recall_Score = 0"
   ]
  },
  {
   "cell_type": "markdown",
   "id": "50331746",
   "metadata": {},
   "source": [
    "#### SVM (RBF)"
   ]
  },
  {
   "cell_type": "code",
   "execution_count": 100,
   "id": "661f3e82",
   "metadata": {},
   "outputs": [],
   "source": [
    "# Support Vector Machine\n",
    "\n",
    "# choose different kernel{‘linear’, ‘poly’, ‘rbf’, ‘sigmoid’, ‘precomputed’}\n",
    "svc_param_grid = {'kernel':['rbf'], 'C':[1,10] } \n",
    "\n",
    "svc =  SVC(gamma='auto')\n",
    "SVC_Grid = GridSearchCV(estimator=svc, param_grid = svc_param_grid, cv =cv )"
   ]
  },
  {
   "cell_type": "code",
   "execution_count": 101,
   "id": "a8d57be2",
   "metadata": {},
   "outputs": [
    {
     "name": "stdout",
     "output_type": "stream",
     "text": [
      "Best SVC RBF hyperparameters {'C': 1, 'kernel': 'rbf'}\n",
      "              precision    recall  f1-score   support\n",
      "\n",
      "           0       0.95      1.00      0.97      8240\n",
      "           1       0.00      0.00      0.00       441\n",
      "\n",
      "    accuracy                           0.95      8681\n",
      "   macro avg       0.47      0.50      0.49      8681\n",
      "weighted avg       0.90      0.95      0.92      8681\n",
      "\n",
      "[[8240    0]\n",
      " [ 441    0]]\n",
      "Recall Score of the model on Testing Sample Data: 0.0\n"
     ]
    }
   ],
   "source": [
    "# Creating the model on original Training Data\n",
    "SVC_Grid.fit(X_train,y_train)\n",
    "print(\"Best SVC RBF hyperparameters\",SVC_Grid.best_params_)\n",
    "SVC_clf = SVC_Grid.best_estimator_\n",
    "y_pred_SVC=SVC_clf.predict(X_test)\n",
    "\n",
    "# Measuring accuracy on original Testing Data\n",
    "print(metrics.classification_report(y_test, y_pred_SVC))\n",
    "print(metrics.confusion_matrix(y_test, y_pred_SVC))\n",
    "\n",
    "# Printing the Overall Accuracy of the model\n",
    "SVC_rbf_recall_Score=metrics.recall_score(y_test, y_pred_SVC)\n",
    "print('Recall Score of the model on Testing Sample Data:', round(SVC_rbf_recall_Score,2))"
   ]
  },
  {
   "cell_type": "code",
   "execution_count": 102,
   "id": "918fc0d8",
   "metadata": {},
   "outputs": [],
   "source": [
    "# SVC on over sampled data\n",
    "svc_rand =  SVC(gamma='auto')\n",
    "SVC_rand_Grid = GridSearchCV(estimator=svc_rand, param_grid = svc_param_grid, cv =cv )"
   ]
  },
  {
   "cell_type": "markdown",
   "id": "e876ba06",
   "metadata": {},
   "source": [
    "> **Note** : The below cell takes forever to run because SVM's performace is really bad when run on large datasets. Hence it was marked down so that the notebook finishes faster for evaluation. A dummy recall score is assigned for the notebook to finish successfully."
   ]
  },
  {
   "cell_type": "raw",
   "id": "f2a173c1",
   "metadata": {},
   "source": [
    "# Creating the model on oversampled training data\n",
    "SVC_rand_Grid.fit(X_train_rand,y_train_rand)\n",
    "print(\"Best SVC rbf hyperparameters\",SVC_rand_Grid.best_params_)\n",
    "SVC_rand_clf = SVC_rand_Grid.best_estimator_\n",
    "y_pred_SVC_rand=SVC_rand_clf.predict(X_test_rand)\n",
    "\n",
    "# Measuring accuracy on oversampled Testing Data\n",
    "print(metrics.classification_report(y_test, y_pred_SVC_rand))\n",
    "print(metrics.confusion_matrix(y_test, y_pred_SVC_rand))\n",
    "\n",
    "# Printing the Overall Accuracy of the model\n",
    "SVC_rbf_rand_recall_Score=metrics.recall_score(y_test, y_pred_SVC_rand)\n",
    "print('Recall Score of the model on Testing Sample Data:', round(SVC_rbf_rand_recall_Score,2))"
   ]
  },
  {
   "cell_type": "code",
   "execution_count": 103,
   "id": "d2510359",
   "metadata": {},
   "outputs": [],
   "source": [
    "SVC_rbf_rand_recall_Score = 0"
   ]
  },
  {
   "cell_type": "markdown",
   "id": "3cd8a578",
   "metadata": {},
   "source": [
    "#### Random Forest"
   ]
  },
  {
   "cell_type": "code",
   "execution_count": 104,
   "id": "51e5b7ab",
   "metadata": {},
   "outputs": [],
   "source": [
    "rf_param_grid = {'max_depth': [60], 'n_estimators': [500] # best Parameters\n",
    "                #'n_estimators':[50,100,500,1000], 'max_depth':[40,60,80,100] # these were tried out and commented for fast run\n",
    "                } \n",
    "\n",
    "rf = RandomForestClassifier(n_jobs=-1, criterion='gini')\n",
    "RF_Grid = GridSearchCV(estimator=rf, param_grid = rf_param_grid, cv =cv )\n"
   ]
  },
  {
   "cell_type": "code",
   "execution_count": 105,
   "id": "bab4ba4a",
   "metadata": {},
   "outputs": [
    {
     "name": "stdout",
     "output_type": "stream",
     "text": [
      "Best RF Parameters {'max_depth': 60, 'n_estimators': 500}\n",
      "              precision    recall  f1-score   support\n",
      "\n",
      "           0       0.96      1.00      0.98      8240\n",
      "           1       0.80      0.30      0.43       441\n",
      "\n",
      "    accuracy                           0.96      8681\n",
      "   macro avg       0.88      0.65      0.71      8681\n",
      "weighted avg       0.96      0.96      0.95      8681\n",
      "\n",
      "[[8206   34]\n",
      " [ 309  132]]\n",
      "Recall Score of the model on Testing Sample Data: 0.3\n"
     ]
    }
   ],
   "source": [
    "# Creating the model on original Training Data\n",
    "RF_Grid.fit(X_train,y_train)\n",
    "print(\"Best RF Parameters\",RF_Grid.best_params_)\n",
    "RF_clf = RF_Grid.best_estimator_\n",
    "y_pred_RF=RF_clf.predict(X_test)\n",
    "\n",
    "# Measuring accuracy on original Testing Data\n",
    "print(metrics.classification_report(y_test, y_pred_RF))\n",
    "print(metrics.confusion_matrix(y_test, y_pred_RF))\n",
    "\n",
    "# Printing the Overall Accuracy of the model\n",
    "RF_recall_Score=metrics.recall_score(y_test, y_pred_RF)\n",
    "print('Recall Score of the model on Testing Sample Data:', round(RF_recall_Score,2))\n"
   ]
  },
  {
   "cell_type": "code",
   "execution_count": 106,
   "id": "7483116b",
   "metadata": {},
   "outputs": [
    {
     "data": {
      "image/png": "[encoded data removed]",
      "text/plain": [
       "<Figure size 432x288 with 1 Axes>"
      ]
     },
     "metadata": {
      "needs_background": "light"
     },
     "output_type": "display_data"
    }
   ],
   "source": [
    "features = pd.Series(RF_clf.feature_importances_, index=X.columns)\n",
    "features.nlargest(20).plot(kind='barh')\n",
    "plt.title(\"Random forest feature importance chart - all 5 years dataset\")\n",
    "plt.show()"
   ]
  },
  {
   "cell_type": "code",
   "execution_count": 107,
   "id": "b254f7f5",
   "metadata": {},
   "outputs": [],
   "source": [
    "# RF on over sampled data\n",
    "RF_rand =  RandomForestClassifier(n_jobs=-1, criterion='gini')\n",
    "RF_rand_Grid = GridSearchCV(estimator=RF_rand, param_grid = rf_param_grid, cv =cv )"
   ]
  },
  {
   "cell_type": "code",
   "execution_count": 108,
   "id": "6a1a12f4",
   "metadata": {},
   "outputs": [
    {
     "name": "stdout",
     "output_type": "stream",
     "text": [
      "Best RF_rand Parameters {'max_depth': 60, 'n_estimators': 500}\n",
      "              precision    recall  f1-score   support\n",
      "\n",
      "           0       0.96      0.99      0.98      8240\n",
      "           1       0.74      0.32      0.44       441\n",
      "\n",
      "    accuracy                           0.96      8681\n",
      "   macro avg       0.85      0.65      0.71      8681\n",
      "weighted avg       0.95      0.96      0.95      8681\n",
      "\n",
      "[[8191   49]\n",
      " [ 302  139]]\n",
      "Recall Score of the model on Testing Sample Data: 0.32\n"
     ]
    }
   ],
   "source": [
    "# Creating the model on oversampled training data\n",
    "RF_rand_Grid.fit(X_train_rand,y_train_rand)\n",
    "print(\"Best RF_rand Parameters\",RF_rand_Grid.best_params_)\n",
    "RF_rand_clf = RF_rand_Grid.best_estimator_\n",
    "y_pred_RF_rand=RF_rand_clf.predict(X_test_rand)\n",
    "\n",
    "# Measuring accuracy on oversampled Testing Data\n",
    "print(metrics.classification_report(y_test, y_pred_RF_rand))\n",
    "print(metrics.confusion_matrix(y_test, y_pred_RF_rand))\n",
    "\n",
    "# Printing the Overall Accuracy of the model\n",
    "RF_rand_recall_Score=metrics.recall_score(y_test, y_pred_RF_rand)\n",
    "print('Recall Score of the model on Testing Sample Data:', round(RF_rand_recall_Score,2))\n"
   ]
  },
  {
   "cell_type": "code",
   "execution_count": 109,
   "id": "eb1292bf",
   "metadata": {},
   "outputs": [
    {
     "data": {
      "image/png": "[encoded data removed]",
      "text/plain": [
       "<Figure size 432x288 with 1 Axes>"
      ]
     },
     "metadata": {
      "needs_background": "light"
     },
     "output_type": "display_data"
    }
   ],
   "source": [
    "features = pd.Series(RF_rand_clf.feature_importances_, index=X.columns)\n",
    "features.nlargest(20).plot(kind='barh')\n",
    "plt.title(\"Random forest feature importance chart - oversampled dataset\")\n",
    "plt.show()"
   ]
  },
  {
   "cell_type": "markdown",
   "id": "066531e6",
   "metadata": {},
   "source": [
    "#### XGBoost"
   ]
  },
  {
   "cell_type": "code",
   "execution_count": 110,
   "id": "b43bedbb",
   "metadata": {},
   "outputs": [],
   "source": [
    "xgb_param_grid = {#{'booster': 'gbtree', 'learning_rate': 0.1, 'max_depth': 10, 'n_estimators': 100, 'objective': 'binary:logistic'} # best Parameters\n",
    "                'n_estimators':[100], 'max_depth':[10],'objective':['binary:logistic'], 'booster':['gbtree'],\n",
    "                'learning_rate':[0.1] \n",
    "                } \n",
    "# these were tried out and commented for fast run\n",
    "#'n_estimators':[50,75,100,200], 'max_depth':[5,10,20],'objective':['binary:logistic'], 'booster':['gbtree'],'learning_rate':[0.001,0.01,0.1,0.05]\n",
    "xgb = XGBClassifier()\n",
    "XGB_Grid = GridSearchCV(estimator=xgb, param_grid = xgb_param_grid, cv =cv )\n"
   ]
  },
  {
   "cell_type": "code",
   "execution_count": 111,
   "id": "d7739f71",
   "metadata": {},
   "outputs": [
    {
     "name": "stdout",
     "output_type": "stream",
     "text": [
      "Best XGB Parameters {'booster': 'gbtree', 'learning_rate': 0.1, 'max_depth': 10, 'n_estimators': 100, 'objective': 'binary:logistic'}\n",
      "              precision    recall  f1-score   support\n",
      "\n",
      "           0       0.98      1.00      0.99      8240\n",
      "           1       0.95      0.54      0.69       441\n",
      "\n",
      "    accuracy                           0.98      8681\n",
      "   macro avg       0.96      0.77      0.84      8681\n",
      "weighted avg       0.97      0.98      0.97      8681\n",
      "\n",
      "[[8227   13]\n",
      " [ 203  238]]\n",
      "Recall Score of the model on Testing Sample Data: 0.54\n"
     ]
    }
   ],
   "source": [
    "# Creating the model on original Training Data\n",
    "XGB_Grid.fit(X_train,y_train)\n",
    "print(\"Best XGB Parameters\",XGB_Grid.best_params_)\n",
    "XGB_clf = XGB_Grid.best_estimator_\n",
    "y_pred_XGB=XGB_clf.predict(X_test)\n",
    "\n",
    "# Measuring accuracy on original Testing Data\n",
    "print(metrics.classification_report(y_test, y_pred_XGB))\n",
    "print(metrics.confusion_matrix(y_test, y_pred_XGB))\n",
    "\n",
    "# Printing the Overall Accuracy of the model\n",
    "XGB_recall_Score=metrics.recall_score(y_test, y_pred_XGB)\n",
    "print('Recall Score of the model on Testing Sample Data:', round(XGB_recall_Score,2))\n"
   ]
  },
  {
   "cell_type": "code",
   "execution_count": 112,
   "id": "34da1ea9",
   "metadata": {},
   "outputs": [],
   "source": [
    "# XGB on sampled data\n",
    "\n",
    "xgb_rand = XGBClassifier()\n",
    "XGB_rand_Grid = GridSearchCV(estimator=xgb_rand, param_grid = xgb_param_grid, cv =cv )"
   ]
  },
  {
   "cell_type": "code",
   "execution_count": 113,
   "id": "40bd6e63",
   "metadata": {},
   "outputs": [
    {
     "name": "stdout",
     "output_type": "stream",
     "text": [
      "Best XGB_rand Parameters {'booster': 'gbtree', 'learning_rate': 0.1, 'max_depth': 10, 'n_estimators': 100, 'objective': 'binary:logistic'}\n",
      "              precision    recall  f1-score   support\n",
      "\n",
      "           0       0.98      0.99      0.99      8240\n",
      "           1       0.80      0.63      0.71       441\n",
      "\n",
      "    accuracy                           0.97      8681\n",
      "   macro avg       0.89      0.81      0.85      8681\n",
      "weighted avg       0.97      0.97      0.97      8681\n",
      "\n",
      "[[8171   69]\n",
      " [ 162  279]]\n",
      "Recall Score of the model on Testing Sample Data: 0.63\n"
     ]
    }
   ],
   "source": [
    "# Creating the model on oversampled training data\n",
    "XGB_rand_Grid.fit(X_train_rand,y_train_rand)\n",
    "print(\"Best XGB_rand Parameters\",XGB_rand_Grid.best_params_)\n",
    "XGB_rand_clf = XGB_rand_Grid.best_estimator_\n",
    "y_pred_XGB_rand=XGB_rand_clf.predict(X_test_rand)\n",
    "\n",
    "# Measuring accuracy on oversampled Testing Data\n",
    "print(metrics.classification_report(y_test, y_pred_XGB_rand))\n",
    "print(metrics.confusion_matrix(y_test, y_pred_XGB_rand))\n",
    "\n",
    "# Printing the Overall Accuracy of the model\n",
    "XGB_rand_recall_Score=metrics.recall_score(y_test, y_pred_XGB_rand)\n",
    "print('Recall Score of the model on Testing Sample Data:', round(XGB_rand_recall_Score,2))\n"
   ]
  },
  {
   "cell_type": "markdown",
   "id": "9ef6ba1f",
   "metadata": {},
   "source": [
    "#### Evaluation"
   ]
  },
  {
   "cell_type": "code",
   "execution_count": 114,
   "id": "df94ad5e",
   "metadata": {},
   "outputs": [],
   "source": [
    "model_name= []\n",
    "model_recall_scores = []\n",
    "model_recall_scores_rand = []\n",
    "\n",
    "model_name.append('LogisticRegression')\n",
    "model_recall_scores.append(LR_recall_Score)\n",
    "model_recall_scores_rand.append(LR_rand_recall_Score)\n",
    "\n",
    "\n",
    "model_name.append('SVM(lin)')\n",
    "model_recall_scores.append(SVC_lin_recall_Score)\n",
    "model_recall_scores_rand.append(SVC_lin_rand_recall_Score)\n",
    "\n",
    "model_name.append('SVM(RBF)')\n",
    "model_recall_scores.append(SVC_rbf_recall_Score)\n",
    "model_recall_scores_rand.append(SVC_rbf_rand_recall_Score)\n",
    "\n",
    "model_name.append('RandomForest')\n",
    "model_recall_scores.append(RF_recall_Score)\n",
    "model_recall_scores_rand.append(RF_rand_recall_Score)\n",
    "\n",
    "model_name.append('XGBoost')\n",
    "model_recall_scores.append(XGB_recall_Score)\n",
    "model_recall_scores_rand.append(XGB_rand_recall_Score)\n",
    "\n",
    "\n",
    "models_data = pd.DataFrame({'Name':model_name,'Values':model_recall_scores} )\n",
    "models_data_rand = pd.DataFrame({'Name':model_name,'Values':model_recall_scores_rand} )"
   ]
  },
  {
   "cell_type": "code",
   "execution_count": 115,
   "id": "5201b958",
   "metadata": {},
   "outputs": [
    {
     "data": {
      "image/png": "[encoded data removed]",
      "text/plain": [
       "<Figure size 1080x360 with 1 Axes>"
      ]
     },
     "metadata": {
      "needs_background": "light"
     },
     "output_type": "display_data"
    }
   ],
   "source": [
    "fig, axe = plt.subplots(figsize=(15,5))\n",
    "plt.scatter(models_data['Name'],models_data['Values'],label='On Original Data')\n",
    "plt.scatter(models_data_rand['Name'],models_data_rand['Values'],label='On Oversampled Data')\n",
    "plt.legend(loc=\"lower right\")\n",
    "plt.ylabel('Recall')\n",
    "plt.suptitle(\"Algorithms' Recall Comparision (Experiment setting 3)\")\n",
    "plt.show()"
   ]
  },
  {
   "cell_type": "markdown",
   "id": "9f638948",
   "metadata": {},
   "source": [
    "## Result Discussion\n",
    "\n",
    "The dataset has large number of target class as Non-Bankrupt companies and very few companies going bankrupt each year. This resulted in an imbalanced dataset on whihc all of the algorithms struggled to perform.\n",
    "\n",
    "1. **Train & Test Splitting**: 80/20 split was done before undertaking any kind of data transformations to avoid data leakage.\n",
    "2. **Missing value analysis**: Features with missing value % more than 10% was dropped and imputations were done based on 'mean' strategy.\n",
    "3. **Sampling**: Two sampling methods experimented were - SMOTE & Randomoversampling whihc generated sysnthetic minority class instances. The models performed better except for RF on the over sampled datasets across all prediction horizons (1 yr and 5 yr and all data).\n",
    "4. **Rescaling**: Features had different scale and since some of the algorithms used distance based metrics for classification, min-max scaler was used to scale the data across features.\n",
    "5. **Modelling**: 5 models were used such as Logistic regression, SVM (linear & RBF kernels), random forest, XG boost and adaptive boosting. Hyperparameter tuning was carried over using Gridsearch methodology. The best parameters were noted down and later replaced in the models for faster replication. 10-Fold crossvalidation was also used while training and models were evaluated based on their Recall scores for each of the 3 experimental settings - Year 1 data, Year 5 data and with all the data at once.\n",
    "\n",
    "6. **Evaluation**: Since we have an imbalanced data set, all models gave high accuracy, but performed poor when predicting a ‘class 1'. Prediction of bankrupt(positive class) companies has more weight than wrongly predicting companies as bankrupt, hence **Recall**(True positive or sensitivity) metric was selected for visualization. Gradient boosting and random forest methods have performed best on original data (with class imbalance present) however on the oversampled data, LR and SVM had comparable recall. The performance of the models degraded when all the 5 years data was considered in comparision with just taking the 2011 year data.\n",
    "\n",
    "7. **Challenges**: Support vector machines run time was very long on the concatenated dataset and it's oversampled version (> 44,000 instances) and this is becasue the training complexity of SVM is tied with the number of instances the dataset has. SVM kernels calculate distance between each point in the dataset and this is why it is not suggested to use SVMs for large datasets and hence they were omitted for the experimental setting 3.\n",
    "It is not possible to accurately learn which company is performing poorly financially as there is no feature to identify any particular company to analyze it over the 5 year period. As mentioned in Feng Mai et al. 2019 and Theil et al. 2019 that leveraging natural language components such as earnings calls and yearly performance reports of companies can improve the models' predeiction performacne[**Reference below**]. Hence the dataset is limited to application of traditional ML methods in contrast to natural language models such as embedding models and LSTMs.\n",
    "\n",
    "8. **COnclusion**: Performance of all the algorithms was better when predicting with 1 year time horizon (experiment setting 2) and performed poorly when predicting with 5 years time horizon. Meaning models could not generalize well or predict the bankruptcy for larger time horizons.\n",
    "\n",
    "9. **Scope for improvment** : Neural networks were not implemented on this dataset which usually show better performance compared with traditional ML methods when there is large amount of data.\n",
    "\n",
    "**Feng Mai et al. 2019** : https://www.sciencedirect.com/science/article/abs/pii/S0377221718308774\n",
    "<br>\n",
    "**Theil et al.2019** : https://www.ijcai.org/proceedings/2019/0724.pdf"
   ]
  },
  {
   "cell_type": "code",
   "execution_count": null,
   "id": "b5b10e8f",
   "metadata": {},
   "outputs": [],
   "source": []
  }
 ],
 "metadata": {
  "kernelspec": {
   "display_name": "Python 3 (ipykernel)",
   "language": "python",
   "name": "python3"
  },
  "language_info": {
   "codemirror_mode": {
    "name": "ipython",
    "version": 3
   },
   "file_extension": ".py",
   "mimetype": "text/x-python",
   "name": "python",
   "nbconvert_exporter": "python",
   "pygments_lexer": "ipython3",
   "version": "3.9.7"
  }
 },
 "nbformat": 4,
 "nbformat_minor": 5
}
